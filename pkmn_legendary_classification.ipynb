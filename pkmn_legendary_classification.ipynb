{
 "cells": [
  {
   "cell_type": "markdown",
   "id": "11d9782f",
   "metadata": {},
   "source": [
    "# Imports and loading data"
   ]
  },
  {
   "cell_type": "code",
   "execution_count": 1,
   "id": "8a06bf6e",
   "metadata": {},
   "outputs": [],
   "source": [
    "import pandas as pd\n",
    "import numpy as np\n",
    "import matplotlib.pyplot as plt\n",
    "import seaborn as sns\n",
    "\n",
    "import statsmodels.api as sm\n",
    "\n",
    "from sklearn.preprocessing import StandardScaler\n",
    "from sklearn.model_selection import train_test_split, cross_val_score, GridSearchCV, RepeatedKFold\n",
    "from sklearn.neighbors import KNeighborsClassifier\n",
    "from sklearn.metrics import confusion_matrix\n",
    "from sklearn.linear_model import LogisticRegression\n",
    "from sklearn.metrics import (accuracy_score,\n",
    "                             f1_score,\n",
    "                             precision_score,\n",
    "                             recall_score,\n",
    "                             classification_report,\n",
    "                             #plot_confusion_matrix,\n",
    "                             ConfusionMatrixDisplay)\n",
    "\n",
    "sns.set_style('darkgrid')\n",
    "%matplotlib inline"
   ]
  },
  {
   "cell_type": "code",
   "execution_count": 2,
   "id": "d757c204",
   "metadata": {},
   "outputs": [],
   "source": [
    "pkmn = pd.read_csv('./pokemon_data/Pokemon_with_correct_pkmn_numbers.csv')\n",
    "pkmn.rename(columns=(\n",
    "                    {'#':'Number', 'Total':'Total Stats'}),\n",
    "            inplace=True)\n",
    "# Usually rows in a Pandas dataframe (df) start at 0, but pokemon numbers \n",
    "# start at 1.  The next line of code makes the df row index start at 1 \n",
    "# and this will help us with joins later.  (joining pkmn and combats tables)\n",
    "pkmn.index = pkmn.index + 1\n",
    "\n",
    "combats = pd.read_csv(\"./pokemon_data/combats.csv\")"
   ]
  },
  {
   "cell_type": "markdown",
   "id": "eea77060",
   "metadata": {},
   "source": [
    "## Pokemon table"
   ]
  },
  {
   "cell_type": "code",
   "execution_count": 3,
   "id": "8d8f0922",
   "metadata": {},
   "outputs": [
    {
     "data": {
      "text/html": [
       "<div>\n",
       "<style scoped>\n",
       "    .dataframe tbody tr th:only-of-type {\n",
       "        vertical-align: middle;\n",
       "    }\n",
       "\n",
       "    .dataframe tbody tr th {\n",
       "        vertical-align: top;\n",
       "    }\n",
       "\n",
       "    .dataframe thead th {\n",
       "        text-align: right;\n",
       "    }\n",
       "</style>\n",
       "<table border=\"1\" class=\"dataframe\">\n",
       "  <thead>\n",
       "    <tr style=\"text-align: right;\">\n",
       "      <th></th>\n",
       "      <th>Number</th>\n",
       "      <th>Name</th>\n",
       "      <th>Type 1</th>\n",
       "      <th>Type 2</th>\n",
       "      <th>Total Stats</th>\n",
       "      <th>HP</th>\n",
       "      <th>Attack</th>\n",
       "      <th>Defense</th>\n",
       "      <th>Sp. Atk</th>\n",
       "      <th>Sp. Def</th>\n",
       "      <th>Speed</th>\n",
       "      <th>Generation</th>\n",
       "      <th>Legendary</th>\n",
       "    </tr>\n",
       "  </thead>\n",
       "  <tbody>\n",
       "    <tr>\n",
       "      <th>1</th>\n",
       "      <td>1</td>\n",
       "      <td>Bulbasaur</td>\n",
       "      <td>Grass</td>\n",
       "      <td>Poison</td>\n",
       "      <td>318</td>\n",
       "      <td>45</td>\n",
       "      <td>49</td>\n",
       "      <td>49</td>\n",
       "      <td>65</td>\n",
       "      <td>65</td>\n",
       "      <td>45</td>\n",
       "      <td>1</td>\n",
       "      <td>False</td>\n",
       "    </tr>\n",
       "    <tr>\n",
       "      <th>2</th>\n",
       "      <td>2</td>\n",
       "      <td>Ivysaur</td>\n",
       "      <td>Grass</td>\n",
       "      <td>Poison</td>\n",
       "      <td>405</td>\n",
       "      <td>60</td>\n",
       "      <td>62</td>\n",
       "      <td>63</td>\n",
       "      <td>80</td>\n",
       "      <td>80</td>\n",
       "      <td>60</td>\n",
       "      <td>1</td>\n",
       "      <td>False</td>\n",
       "    </tr>\n",
       "    <tr>\n",
       "      <th>3</th>\n",
       "      <td>3</td>\n",
       "      <td>Venusaur</td>\n",
       "      <td>Grass</td>\n",
       "      <td>Poison</td>\n",
       "      <td>525</td>\n",
       "      <td>80</td>\n",
       "      <td>82</td>\n",
       "      <td>83</td>\n",
       "      <td>100</td>\n",
       "      <td>100</td>\n",
       "      <td>80</td>\n",
       "      <td>1</td>\n",
       "      <td>False</td>\n",
       "    </tr>\n",
       "    <tr>\n",
       "      <th>4</th>\n",
       "      <td>3</td>\n",
       "      <td>VenusaurMega Venusaur</td>\n",
       "      <td>Grass</td>\n",
       "      <td>Poison</td>\n",
       "      <td>625</td>\n",
       "      <td>80</td>\n",
       "      <td>100</td>\n",
       "      <td>123</td>\n",
       "      <td>122</td>\n",
       "      <td>120</td>\n",
       "      <td>80</td>\n",
       "      <td>1</td>\n",
       "      <td>False</td>\n",
       "    </tr>\n",
       "    <tr>\n",
       "      <th>5</th>\n",
       "      <td>4</td>\n",
       "      <td>Charmander</td>\n",
       "      <td>Fire</td>\n",
       "      <td>NaN</td>\n",
       "      <td>309</td>\n",
       "      <td>39</td>\n",
       "      <td>52</td>\n",
       "      <td>43</td>\n",
       "      <td>60</td>\n",
       "      <td>50</td>\n",
       "      <td>65</td>\n",
       "      <td>1</td>\n",
       "      <td>False</td>\n",
       "    </tr>\n",
       "  </tbody>\n",
       "</table>\n",
       "</div>"
      ],
      "text/plain": [
       "   Number                   Name Type 1  Type 2  Total Stats  HP  Attack  \\\n",
       "1       1              Bulbasaur  Grass  Poison          318  45      49   \n",
       "2       2                Ivysaur  Grass  Poison          405  60      62   \n",
       "3       3               Venusaur  Grass  Poison          525  80      82   \n",
       "4       3  VenusaurMega Venusaur  Grass  Poison          625  80     100   \n",
       "5       4             Charmander   Fire     NaN          309  39      52   \n",
       "\n",
       "   Defense  Sp. Atk  Sp. Def  Speed  Generation  Legendary  \n",
       "1       49       65       65     45           1      False  \n",
       "2       63       80       80     60           1      False  \n",
       "3       83      100      100     80           1      False  \n",
       "4      123      122      120     80           1      False  \n",
       "5       43       60       50     65           1      False  "
      ]
     },
     "execution_count": 3,
     "metadata": {},
     "output_type": "execute_result"
    }
   ],
   "source": [
    "pkmn.head()"
   ]
  },
  {
   "cell_type": "markdown",
   "id": "f86a7b34",
   "metadata": {},
   "source": [
    "Note that values in the Number column are not unique, as pokemon like Venusaur and Mega Venusaur both have Number 3, but their row index is unique.  This is important bc our combats data keeps track of winners using a pokemon's row index, NOT its pokemon number.  "
   ]
  },
  {
   "cell_type": "code",
   "execution_count": 4,
   "id": "992b1bb9",
   "metadata": {},
   "outputs": [
    {
     "name": "stdout",
     "output_type": "stream",
     "text": [
      "The pkmn df has row index starting at 1 and ending at 800\n",
      "While the min pkmn. Number is 1 and the max pkmn.Number is 721\n"
     ]
    }
   ],
   "source": [
    "print(F\"The pkmn df has row index starting at {pkmn.index.min()} and ending at {pkmn.index.max()}\")\n",
    "print(F\"While the min pkmn. Number is {pkmn.Number.min()} and the max pkmn.Number is {pkmn.Number.max()}\")"
   ]
  },
  {
   "cell_type": "markdown",
   "id": "4b9791c5",
   "metadata": {},
   "source": [
    "Further proof that pokemon numbers are NOT unique, while row indexes are unique."
   ]
  },
  {
   "cell_type": "markdown",
   "id": "413657e2",
   "metadata": {},
   "source": [
    "## Combats Table"
   ]
  },
  {
   "cell_type": "code",
   "execution_count": 5,
   "id": "93ff5af5",
   "metadata": {},
   "outputs": [
    {
     "data": {
      "text/html": [
       "<div>\n",
       "<style scoped>\n",
       "    .dataframe tbody tr th:only-of-type {\n",
       "        vertical-align: middle;\n",
       "    }\n",
       "\n",
       "    .dataframe tbody tr th {\n",
       "        vertical-align: top;\n",
       "    }\n",
       "\n",
       "    .dataframe thead th {\n",
       "        text-align: right;\n",
       "    }\n",
       "</style>\n",
       "<table border=\"1\" class=\"dataframe\">\n",
       "  <thead>\n",
       "    <tr style=\"text-align: right;\">\n",
       "      <th></th>\n",
       "      <th>First_pokemon</th>\n",
       "      <th>Second_pokemon</th>\n",
       "      <th>Winner</th>\n",
       "    </tr>\n",
       "  </thead>\n",
       "  <tbody>\n",
       "    <tr>\n",
       "      <th>0</th>\n",
       "      <td>266</td>\n",
       "      <td>298</td>\n",
       "      <td>298</td>\n",
       "    </tr>\n",
       "    <tr>\n",
       "      <th>1</th>\n",
       "      <td>702</td>\n",
       "      <td>701</td>\n",
       "      <td>701</td>\n",
       "    </tr>\n",
       "    <tr>\n",
       "      <th>2</th>\n",
       "      <td>191</td>\n",
       "      <td>668</td>\n",
       "      <td>668</td>\n",
       "    </tr>\n",
       "    <tr>\n",
       "      <th>3</th>\n",
       "      <td>237</td>\n",
       "      <td>683</td>\n",
       "      <td>683</td>\n",
       "    </tr>\n",
       "    <tr>\n",
       "      <th>4</th>\n",
       "      <td>151</td>\n",
       "      <td>231</td>\n",
       "      <td>151</td>\n",
       "    </tr>\n",
       "  </tbody>\n",
       "</table>\n",
       "</div>"
      ],
      "text/plain": [
       "   First_pokemon  Second_pokemon  Winner\n",
       "0            266             298     298\n",
       "1            702             701     701\n",
       "2            191             668     668\n",
       "3            237             683     683\n",
       "4            151             231     151"
      ]
     },
     "execution_count": 5,
     "metadata": {},
     "output_type": "execute_result"
    }
   ],
   "source": [
    "combats.head()"
   ]
  },
  {
   "cell_type": "code",
   "execution_count": 6,
   "id": "ed319af6",
   "metadata": {},
   "outputs": [
    {
     "data": {
      "text/plain": [
       "count    50000.000000\n",
       "mean       408.890100\n",
       "std        231.159961\n",
       "min          1.000000\n",
       "25%        206.000000\n",
       "50%        422.000000\n",
       "75%        606.000000\n",
       "max        800.000000\n",
       "Name: Winner, dtype: float64"
      ]
     },
     "execution_count": 6,
     "metadata": {},
     "output_type": "execute_result"
    }
   ],
   "source": [
    "combats['Winner'].describe()"
   ]
  },
  {
   "cell_type": "markdown",
   "id": "4a73445b",
   "metadata": {},
   "source": [
    "Looking at our combats data, our max number for Winner is 800.  This is because a winning pokemon is identified by the row index in the pkmn df.  Winner DOES NOT correspond to pkmn Number."
   ]
  },
  {
   "cell_type": "markdown",
   "id": "ac02c39c",
   "metadata": {},
   "source": [
    "# Joins"
   ]
  },
  {
   "cell_type": "markdown",
   "id": "9ad11fcd",
   "metadata": {},
   "source": [
    "## Identify names of pokemon in winning battles"
   ]
  },
  {
   "cell_type": "code",
   "execution_count": 7,
   "id": "fbccf445",
   "metadata": {},
   "outputs": [
    {
     "data": {
      "text/html": [
       "<div>\n",
       "<style scoped>\n",
       "    .dataframe tbody tr th:only-of-type {\n",
       "        vertical-align: middle;\n",
       "    }\n",
       "\n",
       "    .dataframe tbody tr th {\n",
       "        vertical-align: top;\n",
       "    }\n",
       "\n",
       "    .dataframe thead th {\n",
       "        text-align: right;\n",
       "    }\n",
       "</style>\n",
       "<table border=\"1\" class=\"dataframe\">\n",
       "  <thead>\n",
       "    <tr style=\"text-align: right;\">\n",
       "      <th></th>\n",
       "      <th>First_pokemon</th>\n",
       "      <th>Second_pokemon</th>\n",
       "      <th>Winner</th>\n",
       "      <th>winner_name</th>\n",
       "    </tr>\n",
       "  </thead>\n",
       "  <tbody>\n",
       "    <tr>\n",
       "      <th>0</th>\n",
       "      <td>266</td>\n",
       "      <td>298</td>\n",
       "      <td>298</td>\n",
       "      <td>Nuzleaf</td>\n",
       "    </tr>\n",
       "    <tr>\n",
       "      <th>1</th>\n",
       "      <td>702</td>\n",
       "      <td>701</td>\n",
       "      <td>701</td>\n",
       "      <td>Terrakion</td>\n",
       "    </tr>\n",
       "    <tr>\n",
       "      <th>2</th>\n",
       "      <td>191</td>\n",
       "      <td>668</td>\n",
       "      <td>668</td>\n",
       "      <td>Beheeyem</td>\n",
       "    </tr>\n",
       "    <tr>\n",
       "      <th>3</th>\n",
       "      <td>237</td>\n",
       "      <td>683</td>\n",
       "      <td>683</td>\n",
       "      <td>Druddigon</td>\n",
       "    </tr>\n",
       "    <tr>\n",
       "      <th>4</th>\n",
       "      <td>151</td>\n",
       "      <td>231</td>\n",
       "      <td>151</td>\n",
       "      <td>Omastar</td>\n",
       "    </tr>\n",
       "  </tbody>\n",
       "</table>\n",
       "</div>"
      ],
      "text/plain": [
       "   First_pokemon  Second_pokemon  Winner winner_name\n",
       "0            266             298     298     Nuzleaf\n",
       "1            702             701     701   Terrakion\n",
       "2            191             668     668    Beheeyem\n",
       "3            237             683     683   Druddigon\n",
       "4            151             231     151     Omastar"
      ]
     },
     "execution_count": 7,
     "metadata": {},
     "output_type": "execute_result"
    }
   ],
   "source": [
    "# Join combats to pkmn table using the unique row indices (1, 800) \n",
    "# for the pkmn table.  This ensures that a pokemon like \n",
    "# Venusaur vs. Mega Venusaur will each have their own row \n",
    "# and appropriate number of wins. \n",
    "combats_join = pd.merge(combats, \n",
    "                        pkmn[['Name']], left_on='Winner', \n",
    "                        right_index=True, \n",
    "                        how='left')\n",
    "combats_join.rename(columns={'Name':\"winner_name\"}, inplace=True)\n",
    "combats_join.head()"
   ]
  },
  {
   "cell_type": "markdown",
   "id": "a1ff6d29",
   "metadata": {},
   "source": [
    "## Identifying number of wins for each pokemon from battles data"
   ]
  },
  {
   "cell_type": "markdown",
   "id": "c5db1717",
   "metadata": {},
   "source": [
    "The pkmn table contains all pokemon, however the combats table only has pokemon that were used in a battle.  There are many pokemon that weren't used in combat and the combats table has no data on.  To preserve all 800 unique Pokemon from pkmn table after the join, we need to use a left join.  Any Pokemon that aren't found in the right df (winners) will get a NaN value that we'll replace with 0."
   ]
  },
  {
   "cell_type": "code",
   "execution_count": 8,
   "id": "049ad311",
   "metadata": {},
   "outputs": [
    {
     "data": {
      "text/html": [
       "<div>\n",
       "<style scoped>\n",
       "    .dataframe tbody tr th:only-of-type {\n",
       "        vertical-align: middle;\n",
       "    }\n",
       "\n",
       "    .dataframe tbody tr th {\n",
       "        vertical-align: top;\n",
       "    }\n",
       "\n",
       "    .dataframe thead th {\n",
       "        text-align: right;\n",
       "    }\n",
       "</style>\n",
       "<table border=\"1\" class=\"dataframe\">\n",
       "  <thead>\n",
       "    <tr style=\"text-align: right;\">\n",
       "      <th></th>\n",
       "      <th>Number</th>\n",
       "      <th>Name</th>\n",
       "      <th>Type 1</th>\n",
       "      <th>Type 2</th>\n",
       "      <th>Total Stats</th>\n",
       "      <th>HP</th>\n",
       "      <th>Attack</th>\n",
       "      <th>Defense</th>\n",
       "      <th>Sp. Atk</th>\n",
       "      <th>Sp. Def</th>\n",
       "      <th>Speed</th>\n",
       "      <th>Generation</th>\n",
       "      <th>Legendary</th>\n",
       "      <th>Wins</th>\n",
       "    </tr>\n",
       "  </thead>\n",
       "  <tbody>\n",
       "    <tr>\n",
       "      <th>163</th>\n",
       "      <td>150</td>\n",
       "      <td>Mewtwo</td>\n",
       "      <td>Psychic</td>\n",
       "      <td>NaN</td>\n",
       "      <td>680</td>\n",
       "      <td>106</td>\n",
       "      <td>110</td>\n",
       "      <td>90</td>\n",
       "      <td>154</td>\n",
       "      <td>90</td>\n",
       "      <td>130</td>\n",
       "      <td>1</td>\n",
       "      <td>True</td>\n",
       "      <td>152.0</td>\n",
       "    </tr>\n",
       "    <tr>\n",
       "      <th>154</th>\n",
       "      <td>142</td>\n",
       "      <td>Aerodactyl</td>\n",
       "      <td>Rock</td>\n",
       "      <td>Flying</td>\n",
       "      <td>515</td>\n",
       "      <td>80</td>\n",
       "      <td>105</td>\n",
       "      <td>65</td>\n",
       "      <td>60</td>\n",
       "      <td>75</td>\n",
       "      <td>130</td>\n",
       "      <td>1</td>\n",
       "      <td>False</td>\n",
       "      <td>136.0</td>\n",
       "    </tr>\n",
       "    <tr>\n",
       "      <th>438</th>\n",
       "      <td>392</td>\n",
       "      <td>Infernape</td>\n",
       "      <td>Fire</td>\n",
       "      <td>Fighting</td>\n",
       "      <td>534</td>\n",
       "      <td>76</td>\n",
       "      <td>104</td>\n",
       "      <td>71</td>\n",
       "      <td>104</td>\n",
       "      <td>71</td>\n",
       "      <td>108</td>\n",
       "      <td>4</td>\n",
       "      <td>False</td>\n",
       "      <td>136.0</td>\n",
       "    </tr>\n",
       "    <tr>\n",
       "      <th>428</th>\n",
       "      <td>385</td>\n",
       "      <td>Jirachi</td>\n",
       "      <td>Steel</td>\n",
       "      <td>Psychic</td>\n",
       "      <td>600</td>\n",
       "      <td>100</td>\n",
       "      <td>100</td>\n",
       "      <td>100</td>\n",
       "      <td>100</td>\n",
       "      <td>100</td>\n",
       "      <td>100</td>\n",
       "      <td>3</td>\n",
       "      <td>True</td>\n",
       "      <td>134.0</td>\n",
       "    </tr>\n",
       "    <tr>\n",
       "      <th>314</th>\n",
       "      <td>289</td>\n",
       "      <td>Slaking</td>\n",
       "      <td>Normal</td>\n",
       "      <td>NaN</td>\n",
       "      <td>670</td>\n",
       "      <td>150</td>\n",
       "      <td>160</td>\n",
       "      <td>100</td>\n",
       "      <td>95</td>\n",
       "      <td>65</td>\n",
       "      <td>100</td>\n",
       "      <td>3</td>\n",
       "      <td>False</td>\n",
       "      <td>133.0</td>\n",
       "    </tr>\n",
       "    <tr>\n",
       "      <th>...</th>\n",
       "      <td>...</td>\n",
       "      <td>...</td>\n",
       "      <td>...</td>\n",
       "      <td>...</td>\n",
       "      <td>...</td>\n",
       "      <td>...</td>\n",
       "      <td>...</td>\n",
       "      <td>...</td>\n",
       "      <td>...</td>\n",
       "      <td>...</td>\n",
       "      <td>...</td>\n",
       "      <td>...</td>\n",
       "      <td>...</td>\n",
       "      <td>...</td>\n",
       "    </tr>\n",
       "    <tr>\n",
       "      <th>618</th>\n",
       "      <td>556</td>\n",
       "      <td>Maractus</td>\n",
       "      <td>Grass</td>\n",
       "      <td>NaN</td>\n",
       "      <td>461</td>\n",
       "      <td>75</td>\n",
       "      <td>86</td>\n",
       "      <td>67</td>\n",
       "      <td>106</td>\n",
       "      <td>67</td>\n",
       "      <td>60</td>\n",
       "      <td>5</td>\n",
       "      <td>False</td>\n",
       "      <td>0.0</td>\n",
       "    </tr>\n",
       "    <tr>\n",
       "      <th>183</th>\n",
       "      <td>168</td>\n",
       "      <td>Ariados</td>\n",
       "      <td>Bug</td>\n",
       "      <td>Poison</td>\n",
       "      <td>390</td>\n",
       "      <td>70</td>\n",
       "      <td>90</td>\n",
       "      <td>70</td>\n",
       "      <td>60</td>\n",
       "      <td>60</td>\n",
       "      <td>40</td>\n",
       "      <td>2</td>\n",
       "      <td>False</td>\n",
       "      <td>0.0</td>\n",
       "    </tr>\n",
       "    <tr>\n",
       "      <th>322</th>\n",
       "      <td>297</td>\n",
       "      <td>Hariyama</td>\n",
       "      <td>Fighting</td>\n",
       "      <td>NaN</td>\n",
       "      <td>474</td>\n",
       "      <td>144</td>\n",
       "      <td>120</td>\n",
       "      <td>60</td>\n",
       "      <td>40</td>\n",
       "      <td>60</td>\n",
       "      <td>50</td>\n",
       "      <td>3</td>\n",
       "      <td>False</td>\n",
       "      <td>0.0</td>\n",
       "    </tr>\n",
       "    <tr>\n",
       "      <th>66</th>\n",
       "      <td>60</td>\n",
       "      <td>Poliwag</td>\n",
       "      <td>Water</td>\n",
       "      <td>NaN</td>\n",
       "      <td>300</td>\n",
       "      <td>40</td>\n",
       "      <td>50</td>\n",
       "      <td>40</td>\n",
       "      <td>40</td>\n",
       "      <td>40</td>\n",
       "      <td>90</td>\n",
       "      <td>1</td>\n",
       "      <td>False</td>\n",
       "      <td>0.0</td>\n",
       "    </tr>\n",
       "    <tr>\n",
       "      <th>144</th>\n",
       "      <td>132</td>\n",
       "      <td>Ditto</td>\n",
       "      <td>Normal</td>\n",
       "      <td>NaN</td>\n",
       "      <td>288</td>\n",
       "      <td>48</td>\n",
       "      <td>48</td>\n",
       "      <td>48</td>\n",
       "      <td>48</td>\n",
       "      <td>48</td>\n",
       "      <td>48</td>\n",
       "      <td>1</td>\n",
       "      <td>False</td>\n",
       "      <td>0.0</td>\n",
       "    </tr>\n",
       "  </tbody>\n",
       "</table>\n",
       "<p>800 rows × 14 columns</p>\n",
       "</div>"
      ],
      "text/plain": [
       "     Number        Name    Type 1    Type 2  Total Stats   HP  Attack  \\\n",
       "163     150      Mewtwo   Psychic       NaN          680  106     110   \n",
       "154     142  Aerodactyl      Rock    Flying          515   80     105   \n",
       "438     392   Infernape      Fire  Fighting          534   76     104   \n",
       "428     385     Jirachi     Steel   Psychic          600  100     100   \n",
       "314     289     Slaking    Normal       NaN          670  150     160   \n",
       "..      ...         ...       ...       ...          ...  ...     ...   \n",
       "618     556    Maractus     Grass       NaN          461   75      86   \n",
       "183     168     Ariados       Bug    Poison          390   70      90   \n",
       "322     297    Hariyama  Fighting       NaN          474  144     120   \n",
       "66       60     Poliwag     Water       NaN          300   40      50   \n",
       "144     132       Ditto    Normal       NaN          288   48      48   \n",
       "\n",
       "     Defense  Sp. Atk  Sp. Def  Speed  Generation  Legendary   Wins  \n",
       "163       90      154       90    130           1       True  152.0  \n",
       "154       65       60       75    130           1      False  136.0  \n",
       "438       71      104       71    108           4      False  136.0  \n",
       "428      100      100      100    100           3       True  134.0  \n",
       "314      100       95       65    100           3      False  133.0  \n",
       "..       ...      ...      ...    ...         ...        ...    ...  \n",
       "618       67      106       67     60           5      False    0.0  \n",
       "183       70       60       60     40           2      False    0.0  \n",
       "322       60       40       60     50           3      False    0.0  \n",
       "66        40       40       40     90           1      False    0.0  \n",
       "144       48       48       48     48           1      False    0.0  \n",
       "\n",
       "[800 rows x 14 columns]"
      ]
     },
     "execution_count": 8,
     "metadata": {},
     "output_type": "execute_result"
    }
   ],
   "source": [
    "winners = combats_join['Winner'].value_counts()\n",
    "pkmn_join = pd.merge(pkmn, winners, \n",
    "                     how='left', \n",
    "                     left_index=True, \n",
    "                     right_index=True)\n",
    "pkmn_join.rename(mapper={'Winner':'Wins'}, \n",
    "                 axis=1, \n",
    "                 inplace=True)\n",
    "# If a pokemon has NaN for Wins, we have no data on combats \n",
    "# for the pokemon and can be considered as having 0 wins.\n",
    "pkmn_join['Wins'].fillna(value=0, inplace=True)\n",
    "pkmn_join.sort_values('Wins', ascending=False)"
   ]
  },
  {
   "cell_type": "code",
   "execution_count": 9,
   "id": "5051e7ab",
   "metadata": {},
   "outputs": [
    {
     "name": "stdout",
     "output_type": "stream",
     "text": [
      "True\n"
     ]
    }
   ],
   "source": [
    "# Check to see if join was done correctly\n",
    "num_combats = len(combats)\n",
    "total_wins = pkmn_join['Wins'].sum()\n",
    "\n",
    "print(num_combats == total_wins)"
   ]
  },
  {
   "cell_type": "markdown",
   "id": "3353020f",
   "metadata": {},
   "source": [
    "It looks like all the data was joined correctly"
   ]
  },
  {
   "cell_type": "markdown",
   "id": "2d5c24bd-f073-43e4-beed-27c2c8cd1170",
   "metadata": {},
   "source": [
    "# Which numerical features are most highly correlated with a pokemon being legendary?"
   ]
  },
  {
   "cell_type": "code",
   "execution_count": 10,
   "id": "1512dea1-3cd1-4605-ae5f-e37d4b3d316e",
   "metadata": {},
   "outputs": [],
   "source": [
    "pkmn_corr = pkmn_join.corr()"
   ]
  },
  {
   "cell_type": "code",
   "execution_count": 11,
   "id": "1974d8a4-8e88-48ba-a2eb-05ca9d2edea1",
   "metadata": {},
   "outputs": [
    {
     "data": {
      "image/png": "[encoded data removed]",
      "text/plain": [
       "<Figure size 648x504 with 2 Axes>"
      ]
     },
     "metadata": {
      "needs_background": "light"
     },
     "output_type": "display_data"
    }
   ],
   "source": [
    "fig, ax = plt.subplots(1,1, figsize=(9,7))\n",
    "sns.heatmap(pkmn_corr, \n",
    "            cmap='gist_gray', \n",
    "            square=True, \n",
    "            ax=ax\n",
    "            #, annot=True, fmt='.2f', annot_kws={'size':12}\n",
    "           )\n",
    "b, t = plt.ylim()\n",
    "b += 0.5\n",
    "t -= 0.5\n",
    "plt.ylim(b, t)\n",
    "plt.show();"
   ]
  },
  {
   "cell_type": "code",
   "execution_count": 12,
   "id": "2788b0f8-410d-4ffa-80cf-c6a76b91f8d5",
   "metadata": {},
   "outputs": [
    {
     "data": {
      "image/png": "[encoded data removed]",
      "text/plain": [
       "<Figure size 648x504 with 2 Axes>"
      ]
     },
     "metadata": {
      "needs_background": "light"
     },
     "output_type": "display_data"
    }
   ],
   "source": [
    "fig, ax = plt.subplots(1,1, figsize=(9,7))\n",
    "sns.heatmap(pkmn_corr[['Legendary']].T, \n",
    "            cmap='gist_gray', \n",
    "            square=True, \n",
    "            ax=ax,\n",
    "            cbar_kws={\"orientation\": \"horizontal\"}\n",
    "            #, annot=True, fmt='.2f', annot_kws={'size':12}\n",
    "           )\n",
    "b, t = plt.ylim()\n",
    "b += 0.5\n",
    "t -= 0.5\n",
    "plt.ylim(b, t)\n",
    "plt.xticks(rotation=45)\n",
    "plt.yticks(rotation=0)\n",
    "plt.savefig('heatmap.png')\n",
    "plt.show();"
   ]
  },
  {
   "cell_type": "markdown",
   "id": "3f782715-59b8-455f-a911-817a24a57cfa",
   "metadata": {},
   "source": [
    "Legendary seems most highly correlated with Total Stats, Sp. Atk, Sp. Def, Attack, Speed, and Wins"
   ]
  },
  {
   "cell_type": "code",
   "execution_count": 13,
   "id": "18aeb6d8-d227-42c7-b1e8-f6c685c22b49",
   "metadata": {},
   "outputs": [
    {
     "data": {
      "text/plain": [
       "Legendary      1.000000\n",
       "Total Stats    0.501758\n",
       "Sp. Atk        0.448907\n",
       "Sp. Def        0.363937\n",
       "Attack         0.345408\n",
       "Speed          0.326715\n",
       "Wins           0.312999\n",
       "HP             0.273620\n",
       "Defense        0.246377\n",
       "Number         0.153396\n",
       "Generation     0.079794\n",
       "Name: Legendary, dtype: float64"
      ]
     },
     "execution_count": 13,
     "metadata": {},
     "output_type": "execute_result"
    }
   ],
   "source": [
    "pkmn_corr['Legendary'].sort_values(ascending=False)"
   ]
  },
  {
   "cell_type": "markdown",
   "id": "85dd259d-7757-42bc-a6d8-5f1dc89716cc",
   "metadata": {},
   "source": [
    "## Pairplots of variables most highly correlated with Legendary"
   ]
  },
  {
   "cell_type": "code",
   "execution_count": 14,
   "id": "cfff3696-e7fb-408b-89c0-1a22f4533428",
   "metadata": {},
   "outputs": [],
   "source": [
    "most_corr_num_features = pkmn_corr['Legendary'].sort_values(ascending=False)[1:7].index.values"
   ]
  },
  {
   "cell_type": "code",
   "execution_count": 15,
   "id": "1e156076-f40c-4887-8a61-3346e80b8a79",
   "metadata": {
    "tags": []
   },
   "outputs": [],
   "source": [
    "# sns.pairplot(pkmn_join[\n",
    "#                             ['Total Stats',\n",
    "#                              'Sp. Atk', \n",
    "#                              'Sp. Def', \n",
    "#                              'Attack', \n",
    "#                              'Speed', \n",
    "#                              'Wins', \n",
    "#                              'Legendary']\n",
    "#                             ], \n",
    "#                              hue='Legendary');"
   ]
  },
  {
   "cell_type": "code",
   "execution_count": 16,
   "id": "2439e091-45c7-4f77-a7fa-d358791aa086",
   "metadata": {},
   "outputs": [
    {
     "data": {
      "image/png": "[encoded data removed]",
      "text/plain": [
       "<Figure size 1500.62x180 with 9 Axes>"
      ]
     },
     "metadata": {
      "needs_background": "light"
     },
     "output_type": "display_data"
    }
   ],
   "source": [
    "new_df = pkmn_join[['Number',\n",
    "                    'HP',\n",
    "                    'Attack',\n",
    "                    'Defense',\n",
    "                    'Sp. Atk',\n",
    "                    'Sp. Def',\n",
    "                    'Speed',\n",
    "                    'Wins',\n",
    "                    'Legendary']]\n",
    "\n",
    "sns.pairplot(data=new_df, \n",
    "             hue='Legendary',\n",
    "             y_vars='Number')\n",
    "plt.savefig(\"/users/rancher/Google Drive/Coding/website/github_pages/images/pairplots.png\");"
   ]
  },
  {
   "cell_type": "code",
   "execution_count": 17,
   "id": "66997b4f-7919-4813-92e2-7a4a88a8f56a",
   "metadata": {},
   "outputs": [
    {
     "data": {
      "image/png": "[encoded data removed]",
      "text/plain": [
       "<Figure size 432x288 with 1 Axes>"
      ]
     },
     "metadata": {
      "needs_background": "light"
     },
     "output_type": "display_data"
    }
   ],
   "source": [
    "new_df = pkmn_join[['Number',\n",
    "                    'Total Stats',\n",
    "                    'Legendary']]\n",
    "\n",
    "sns.scatterplot(data=new_df, \n",
    "             hue='Legendary',\n",
    "             y='Number',\n",
    "             x='Total Stats')\n",
    "plt.savefig(\"/users/rancher/Google Drive/Coding/website/github_pages/images/pairplot_total_stats.png\");"
   ]
  },
  {
   "cell_type": "markdown",
   "id": "80f3746e-3415-45e9-a1a5-c9df3086c667",
   "metadata": {},
   "source": [
    "For most, if not all plots, we see a tendency for Legendary pokemon to cluster in the upper right of each scatter plot, indicating that Legendary pokemon tend to have high stats as compared to non-legendary pokemon.  These predictors are probably going to be the most important for our model's performance."
   ]
  },
  {
   "cell_type": "code",
   "execution_count": 18,
   "id": "63aebe1c-aa21-4282-817a-648442c18c3a",
   "metadata": {},
   "outputs": [
    {
     "data": {
      "image/png": "[encoded data removed]",
      "text/plain": [
       "<Figure size 432x288 with 1 Axes>"
      ]
     },
     "metadata": {
      "needs_background": "light"
     },
     "output_type": "display_data"
    }
   ],
   "source": [
    "fig, ax = plt.subplots(1,1)\n",
    "pkmn_join[pkmn_join['Legendary']==True].hist(column='Total Stats', \n",
    "                                                       ax=ax)\n",
    "pkmn_join[pkmn_join['Legendary']==False].hist(column='Total Stats', \n",
    "                                                        ax=ax, alpha=0.5)\n",
    "plt.legend(['Legendary', 'Non-Legendary'])\n",
    "plt.show();"
   ]
  },
  {
   "cell_type": "markdown",
   "id": "044fad77-6fb6-47dd-98c0-21cd888b6395",
   "metadata": {},
   "source": [
    "Focusing on the aggregated total stats, we see legendary pokemon are towards the top.  I expect this predictor will be very useful in our model."
   ]
  },
  {
   "cell_type": "markdown",
   "id": "dcf47199",
   "metadata": {},
   "source": [
    "# kNN classification - Predicting legendary status from pokemon stats (HP, Defense, ..., num_wins_in_combat)"
   ]
  },
  {
   "cell_type": "code",
   "execution_count": 19,
   "id": "d371daf8",
   "metadata": {},
   "outputs": [],
   "source": [
    "pkmn_join_copy = pkmn_join.copy(deep=True)\n",
    "\n",
    "numeric_cols_labels = ['Total Stats', \n",
    "                       'HP', 'Attack', \n",
    "                       'Defense', \n",
    "                       'Sp. Atk', \n",
    "                       'Sp. Def', \n",
    "                       'Speed', \n",
    "                       'Wins']\n",
    "\n",
    "numeric_cols = pkmn_join_copy.loc[:, numeric_cols_labels]"
   ]
  },
  {
   "cell_type": "markdown",
   "id": "87c21b56",
   "metadata": {},
   "source": [
    "## Scale and transform the data"
   ]
  },
  {
   "cell_type": "markdown",
   "id": "93fe10bb",
   "metadata": {},
   "source": [
    "kNN classification requires quantitative values as input.  For categorical data, we can convert to dummy variables, which are quantitative, and allow for the use of categorical data in the model. \n",
    "\n",
    "Note, I decide to exclude the \"Generation\" column.  I want the model to work without knowing which generation a pokemon comes from because I want the model to be generalizable to future generations of pokemon as well.  Lataer, I plan to test the model's performance on generation 8 pokemon."
   ]
  },
  {
   "cell_type": "code",
   "execution_count": 20,
   "id": "8f778f19-80b1-49b8-a126-ee9cbeaa2e56",
   "metadata": {},
   "outputs": [],
   "source": [
    "categorical_cols = pkmn_join_copy.loc[:, ['Type 1', 'Type 2']]\n",
    "categorical_cols_labels = list(categorical_cols.columns)\n",
    "orig_with_dummies = pd.get_dummies(\n",
    "                                    pkmn_join.drop(\n",
    "                                        ['Number', 'Name', 'Legendary'], \n",
    "                                        axis=1), \n",
    "                                    columns=categorical_cols_labels\n",
    "                                    )"
   ]
  },
  {
   "cell_type": "markdown",
   "id": "8e725252-995f-449c-ba8f-ae2b8224608b",
   "metadata": {},
   "source": [
    "kNN classification compares Euclidean distance between points when classifying a prediction.  Some of our numeric values are on a larger scale than others, which will have an impact on Euclidean distance, and may skew our understanding of the strength of a given predictor in the model.  To overcome this issue, we transform our numeric data so all predictors are on the same scale."
   ]
  },
  {
   "cell_type": "code",
   "execution_count": 21,
   "id": "7ce018ca",
   "metadata": {},
   "outputs": [],
   "source": [
    "scaled_with_dummies = orig_with_dummies.copy()\n",
    "\n",
    "scaler = StandardScaler()\n",
    "scaler.fit(numeric_cols)\n",
    "scaled_with_dummies.loc[:, numeric_cols_labels] = scaler.transform(numeric_cols)"
   ]
  },
  {
   "cell_type": "code",
   "execution_count": 22,
   "id": "f4d4d953",
   "metadata": {},
   "outputs": [],
   "source": [
    "# scaled_with_dummies = orig_with_dummies.copy()"
   ]
  },
  {
   "cell_type": "markdown",
   "id": "501b2578",
   "metadata": {},
   "source": [
    "Lastly, we separate our target labels from the rest of the dataset"
   ]
  },
  {
   "cell_type": "code",
   "execution_count": 23,
   "id": "857ad787",
   "metadata": {},
   "outputs": [],
   "source": [
    "target_df = pkmn_join_copy['Legendary']"
   ]
  },
  {
   "cell_type": "markdown",
   "id": "49191bc2",
   "metadata": {},
   "source": [
    "### Checking the results"
   ]
  },
  {
   "cell_type": "code",
   "execution_count": 24,
   "id": "aeeb21ae",
   "metadata": {},
   "outputs": [
    {
     "data": {
      "text/html": [
       "<div>\n",
       "<style scoped>\n",
       "    .dataframe tbody tr th:only-of-type {\n",
       "        vertical-align: middle;\n",
       "    }\n",
       "\n",
       "    .dataframe tbody tr th {\n",
       "        vertical-align: top;\n",
       "    }\n",
       "\n",
       "    .dataframe thead th {\n",
       "        text-align: right;\n",
       "    }\n",
       "</style>\n",
       "<table border=\"1\" class=\"dataframe\">\n",
       "  <thead>\n",
       "    <tr style=\"text-align: right;\">\n",
       "      <th></th>\n",
       "      <th>Total Stats</th>\n",
       "      <th>HP</th>\n",
       "      <th>Attack</th>\n",
       "      <th>Defense</th>\n",
       "      <th>Sp. Atk</th>\n",
       "      <th>Sp. Def</th>\n",
       "      <th>Speed</th>\n",
       "      <th>Generation</th>\n",
       "      <th>Wins</th>\n",
       "      <th>Type 1_Bug</th>\n",
       "      <th>...</th>\n",
       "      <th>Type 2_Ghost</th>\n",
       "      <th>Type 2_Grass</th>\n",
       "      <th>Type 2_Ground</th>\n",
       "      <th>Type 2_Ice</th>\n",
       "      <th>Type 2_Normal</th>\n",
       "      <th>Type 2_Poison</th>\n",
       "      <th>Type 2_Psychic</th>\n",
       "      <th>Type 2_Rock</th>\n",
       "      <th>Type 2_Steel</th>\n",
       "      <th>Type 2_Water</th>\n",
       "    </tr>\n",
       "  </thead>\n",
       "  <tbody>\n",
       "    <tr>\n",
       "      <th>1</th>\n",
       "      <td>-0.976765</td>\n",
       "      <td>-0.950626</td>\n",
       "      <td>-0.924906</td>\n",
       "      <td>-0.797154</td>\n",
       "      <td>-0.239130</td>\n",
       "      <td>-0.248189</td>\n",
       "      <td>-0.801503</td>\n",
       "      <td>1</td>\n",
       "      <td>-0.753747</td>\n",
       "      <td>0</td>\n",
       "      <td>...</td>\n",
       "      <td>0</td>\n",
       "      <td>0</td>\n",
       "      <td>0</td>\n",
       "      <td>0</td>\n",
       "      <td>0</td>\n",
       "      <td>1</td>\n",
       "      <td>0</td>\n",
       "      <td>0</td>\n",
       "      <td>0</td>\n",
       "      <td>0</td>\n",
       "    </tr>\n",
       "    <tr>\n",
       "      <th>2</th>\n",
       "      <td>-0.251088</td>\n",
       "      <td>-0.362822</td>\n",
       "      <td>-0.524130</td>\n",
       "      <td>-0.347917</td>\n",
       "      <td>0.219560</td>\n",
       "      <td>0.291156</td>\n",
       "      <td>-0.285015</td>\n",
       "      <td>1</td>\n",
       "      <td>-0.487719</td>\n",
       "      <td>0</td>\n",
       "      <td>...</td>\n",
       "      <td>0</td>\n",
       "      <td>0</td>\n",
       "      <td>0</td>\n",
       "      <td>0</td>\n",
       "      <td>0</td>\n",
       "      <td>1</td>\n",
       "      <td>0</td>\n",
       "      <td>0</td>\n",
       "      <td>0</td>\n",
       "      <td>0</td>\n",
       "    </tr>\n",
       "    <tr>\n",
       "      <th>3</th>\n",
       "      <td>0.749845</td>\n",
       "      <td>0.420917</td>\n",
       "      <td>0.092448</td>\n",
       "      <td>0.293849</td>\n",
       "      <td>0.831146</td>\n",
       "      <td>1.010283</td>\n",
       "      <td>0.403635</td>\n",
       "      <td>1</td>\n",
       "      <td>0.783306</td>\n",
       "      <td>0</td>\n",
       "      <td>...</td>\n",
       "      <td>0</td>\n",
       "      <td>0</td>\n",
       "      <td>0</td>\n",
       "      <td>0</td>\n",
       "      <td>0</td>\n",
       "      <td>1</td>\n",
       "      <td>0</td>\n",
       "      <td>0</td>\n",
       "      <td>0</td>\n",
       "      <td>0</td>\n",
       "    </tr>\n",
       "    <tr>\n",
       "      <th>4</th>\n",
       "      <td>1.583957</td>\n",
       "      <td>0.420917</td>\n",
       "      <td>0.647369</td>\n",
       "      <td>1.577381</td>\n",
       "      <td>1.503891</td>\n",
       "      <td>1.729409</td>\n",
       "      <td>0.403635</td>\n",
       "      <td>1</td>\n",
       "      <td>0.221690</td>\n",
       "      <td>0</td>\n",
       "      <td>...</td>\n",
       "      <td>0</td>\n",
       "      <td>0</td>\n",
       "      <td>0</td>\n",
       "      <td>0</td>\n",
       "      <td>0</td>\n",
       "      <td>1</td>\n",
       "      <td>0</td>\n",
       "      <td>0</td>\n",
       "      <td>0</td>\n",
       "      <td>0</td>\n",
       "    </tr>\n",
       "    <tr>\n",
       "      <th>5</th>\n",
       "      <td>-1.051836</td>\n",
       "      <td>-1.185748</td>\n",
       "      <td>-0.832419</td>\n",
       "      <td>-0.989683</td>\n",
       "      <td>-0.392027</td>\n",
       "      <td>-0.787533</td>\n",
       "      <td>-0.112853</td>\n",
       "      <td>1</td>\n",
       "      <td>-0.221690</td>\n",
       "      <td>0</td>\n",
       "      <td>...</td>\n",
       "      <td>0</td>\n",
       "      <td>0</td>\n",
       "      <td>0</td>\n",
       "      <td>0</td>\n",
       "      <td>0</td>\n",
       "      <td>0</td>\n",
       "      <td>0</td>\n",
       "      <td>0</td>\n",
       "      <td>0</td>\n",
       "      <td>0</td>\n",
       "    </tr>\n",
       "  </tbody>\n",
       "</table>\n",
       "<p>5 rows × 45 columns</p>\n",
       "</div>"
      ],
      "text/plain": [
       "   Total Stats        HP    Attack   Defense   Sp. Atk   Sp. Def     Speed  \\\n",
       "1    -0.976765 -0.950626 -0.924906 -0.797154 -0.239130 -0.248189 -0.801503   \n",
       "2    -0.251088 -0.362822 -0.524130 -0.347917  0.219560  0.291156 -0.285015   \n",
       "3     0.749845  0.420917  0.092448  0.293849  0.831146  1.010283  0.403635   \n",
       "4     1.583957  0.420917  0.647369  1.577381  1.503891  1.729409  0.403635   \n",
       "5    -1.051836 -1.185748 -0.832419 -0.989683 -0.392027 -0.787533 -0.112853   \n",
       "\n",
       "   Generation      Wins  Type 1_Bug  ...  Type 2_Ghost  Type 2_Grass  \\\n",
       "1           1 -0.753747           0  ...             0             0   \n",
       "2           1 -0.487719           0  ...             0             0   \n",
       "3           1  0.783306           0  ...             0             0   \n",
       "4           1  0.221690           0  ...             0             0   \n",
       "5           1 -0.221690           0  ...             0             0   \n",
       "\n",
       "   Type 2_Ground  Type 2_Ice  Type 2_Normal  Type 2_Poison  Type 2_Psychic  \\\n",
       "1              0           0              0              1               0   \n",
       "2              0           0              0              1               0   \n",
       "3              0           0              0              1               0   \n",
       "4              0           0              0              1               0   \n",
       "5              0           0              0              0               0   \n",
       "\n",
       "   Type 2_Rock  Type 2_Steel  Type 2_Water  \n",
       "1            0             0             0  \n",
       "2            0             0             0  \n",
       "3            0             0             0  \n",
       "4            0             0             0  \n",
       "5            0             0             0  \n",
       "\n",
       "[5 rows x 45 columns]"
      ]
     },
     "execution_count": 24,
     "metadata": {},
     "output_type": "execute_result"
    }
   ],
   "source": [
    "scaled_with_dummies.head()"
   ]
  },
  {
   "cell_type": "code",
   "execution_count": 25,
   "id": "be1a9982",
   "metadata": {},
   "outputs": [
    {
     "data": {
      "text/plain": [
       "Index(['Total Stats', 'HP', 'Attack', 'Defense', 'Sp. Atk', 'Sp. Def', 'Speed',\n",
       "       'Generation', 'Wins', 'Type 1_Bug', 'Type 1_Dark', 'Type 1_Dragon',\n",
       "       'Type 1_Electric', 'Type 1_Fairy', 'Type 1_Fighting', 'Type 1_Fire',\n",
       "       'Type 1_Flying', 'Type 1_Ghost', 'Type 1_Grass', 'Type 1_Ground',\n",
       "       'Type 1_Ice', 'Type 1_Normal', 'Type 1_Poison', 'Type 1_Psychic',\n",
       "       'Type 1_Rock', 'Type 1_Steel', 'Type 1_Water', 'Type 2_Bug',\n",
       "       'Type 2_Dark', 'Type 2_Dragon', 'Type 2_Electric', 'Type 2_Fairy',\n",
       "       'Type 2_Fighting', 'Type 2_Fire', 'Type 2_Flying', 'Type 2_Ghost',\n",
       "       'Type 2_Grass', 'Type 2_Ground', 'Type 2_Ice', 'Type 2_Normal',\n",
       "       'Type 2_Poison', 'Type 2_Psychic', 'Type 2_Rock', 'Type 2_Steel',\n",
       "       'Type 2_Water'],\n",
       "      dtype='object')"
      ]
     },
     "execution_count": 25,
     "metadata": {},
     "output_type": "execute_result"
    }
   ],
   "source": [
    "scaled_with_dummies.columns"
   ]
  },
  {
   "cell_type": "markdown",
   "id": "f59a462e",
   "metadata": {},
   "source": [
    "## Building Models"
   ]
  },
  {
   "cell_type": "markdown",
   "id": "1ccc1b74",
   "metadata": {},
   "source": [
    "First, I'm going to consider building a model that uses each stat.  The extra granularity may help build a better model, but it will be more complex as a result.  I'll first start using all available features, but then see what happens when I narrow down to focusing on the numerical values that are most highly correlated with legendary: Sp. Atk, Sp. Def, Attack, Speed, and Wins.  I'm also especially interested in how well the model performs if I only use the `Total Stats` predictor."
   ]
  },
  {
   "cell_type": "markdown",
   "id": "29b23ce6",
   "metadata": {},
   "source": [
    "### Creating a model using all features except total stats."
   ]
  },
  {
   "cell_type": "code",
   "execution_count": 26,
   "id": "c50eac3a",
   "metadata": {},
   "outputs": [],
   "source": [
    "# Drop Total Stats column as we have more granularity \n",
    "# if we look at each stat individually.  We can consider \n",
    "# building a model that looks at total stats later on and \n",
    "# compare performance to the model we build now.\n",
    "scaled_with_dummies_no_total = scaled_with_dummies.drop('Total Stats', \n",
    "                                                        axis=1)"
   ]
  },
  {
   "cell_type": "code",
   "execution_count": 27,
   "id": "b75c5965",
   "metadata": {},
   "outputs": [
    {
     "data": {
      "text/html": [
       "<div>\n",
       "<style scoped>\n",
       "    .dataframe tbody tr th:only-of-type {\n",
       "        vertical-align: middle;\n",
       "    }\n",
       "\n",
       "    .dataframe tbody tr th {\n",
       "        vertical-align: top;\n",
       "    }\n",
       "\n",
       "    .dataframe thead th {\n",
       "        text-align: right;\n",
       "    }\n",
       "</style>\n",
       "<table border=\"1\" class=\"dataframe\">\n",
       "  <thead>\n",
       "    <tr style=\"text-align: right;\">\n",
       "      <th></th>\n",
       "      <th>HP</th>\n",
       "      <th>Attack</th>\n",
       "      <th>Defense</th>\n",
       "      <th>Sp. Atk</th>\n",
       "      <th>Sp. Def</th>\n",
       "      <th>Speed</th>\n",
       "      <th>Generation</th>\n",
       "      <th>Wins</th>\n",
       "      <th>Type 1_Bug</th>\n",
       "      <th>Type 1_Dark</th>\n",
       "      <th>...</th>\n",
       "      <th>Type 2_Ghost</th>\n",
       "      <th>Type 2_Grass</th>\n",
       "      <th>Type 2_Ground</th>\n",
       "      <th>Type 2_Ice</th>\n",
       "      <th>Type 2_Normal</th>\n",
       "      <th>Type 2_Poison</th>\n",
       "      <th>Type 2_Psychic</th>\n",
       "      <th>Type 2_Rock</th>\n",
       "      <th>Type 2_Steel</th>\n",
       "      <th>Type 2_Water</th>\n",
       "    </tr>\n",
       "  </thead>\n",
       "  <tbody>\n",
       "    <tr>\n",
       "      <th>1</th>\n",
       "      <td>-0.950626</td>\n",
       "      <td>-0.924906</td>\n",
       "      <td>-0.797154</td>\n",
       "      <td>-0.239130</td>\n",
       "      <td>-0.248189</td>\n",
       "      <td>-0.801503</td>\n",
       "      <td>1</td>\n",
       "      <td>-0.753747</td>\n",
       "      <td>0</td>\n",
       "      <td>0</td>\n",
       "      <td>...</td>\n",
       "      <td>0</td>\n",
       "      <td>0</td>\n",
       "      <td>0</td>\n",
       "      <td>0</td>\n",
       "      <td>0</td>\n",
       "      <td>1</td>\n",
       "      <td>0</td>\n",
       "      <td>0</td>\n",
       "      <td>0</td>\n",
       "      <td>0</td>\n",
       "    </tr>\n",
       "    <tr>\n",
       "      <th>2</th>\n",
       "      <td>-0.362822</td>\n",
       "      <td>-0.524130</td>\n",
       "      <td>-0.347917</td>\n",
       "      <td>0.219560</td>\n",
       "      <td>0.291156</td>\n",
       "      <td>-0.285015</td>\n",
       "      <td>1</td>\n",
       "      <td>-0.487719</td>\n",
       "      <td>0</td>\n",
       "      <td>0</td>\n",
       "      <td>...</td>\n",
       "      <td>0</td>\n",
       "      <td>0</td>\n",
       "      <td>0</td>\n",
       "      <td>0</td>\n",
       "      <td>0</td>\n",
       "      <td>1</td>\n",
       "      <td>0</td>\n",
       "      <td>0</td>\n",
       "      <td>0</td>\n",
       "      <td>0</td>\n",
       "    </tr>\n",
       "    <tr>\n",
       "      <th>3</th>\n",
       "      <td>0.420917</td>\n",
       "      <td>0.092448</td>\n",
       "      <td>0.293849</td>\n",
       "      <td>0.831146</td>\n",
       "      <td>1.010283</td>\n",
       "      <td>0.403635</td>\n",
       "      <td>1</td>\n",
       "      <td>0.783306</td>\n",
       "      <td>0</td>\n",
       "      <td>0</td>\n",
       "      <td>...</td>\n",
       "      <td>0</td>\n",
       "      <td>0</td>\n",
       "      <td>0</td>\n",
       "      <td>0</td>\n",
       "      <td>0</td>\n",
       "      <td>1</td>\n",
       "      <td>0</td>\n",
       "      <td>0</td>\n",
       "      <td>0</td>\n",
       "      <td>0</td>\n",
       "    </tr>\n",
       "    <tr>\n",
       "      <th>4</th>\n",
       "      <td>0.420917</td>\n",
       "      <td>0.647369</td>\n",
       "      <td>1.577381</td>\n",
       "      <td>1.503891</td>\n",
       "      <td>1.729409</td>\n",
       "      <td>0.403635</td>\n",
       "      <td>1</td>\n",
       "      <td>0.221690</td>\n",
       "      <td>0</td>\n",
       "      <td>0</td>\n",
       "      <td>...</td>\n",
       "      <td>0</td>\n",
       "      <td>0</td>\n",
       "      <td>0</td>\n",
       "      <td>0</td>\n",
       "      <td>0</td>\n",
       "      <td>1</td>\n",
       "      <td>0</td>\n",
       "      <td>0</td>\n",
       "      <td>0</td>\n",
       "      <td>0</td>\n",
       "    </tr>\n",
       "    <tr>\n",
       "      <th>5</th>\n",
       "      <td>-1.185748</td>\n",
       "      <td>-0.832419</td>\n",
       "      <td>-0.989683</td>\n",
       "      <td>-0.392027</td>\n",
       "      <td>-0.787533</td>\n",
       "      <td>-0.112853</td>\n",
       "      <td>1</td>\n",
       "      <td>-0.221690</td>\n",
       "      <td>0</td>\n",
       "      <td>0</td>\n",
       "      <td>...</td>\n",
       "      <td>0</td>\n",
       "      <td>0</td>\n",
       "      <td>0</td>\n",
       "      <td>0</td>\n",
       "      <td>0</td>\n",
       "      <td>0</td>\n",
       "      <td>0</td>\n",
       "      <td>0</td>\n",
       "      <td>0</td>\n",
       "      <td>0</td>\n",
       "    </tr>\n",
       "  </tbody>\n",
       "</table>\n",
       "<p>5 rows × 44 columns</p>\n",
       "</div>"
      ],
      "text/plain": [
       "         HP    Attack   Defense   Sp. Atk   Sp. Def     Speed  Generation  \\\n",
       "1 -0.950626 -0.924906 -0.797154 -0.239130 -0.248189 -0.801503           1   \n",
       "2 -0.362822 -0.524130 -0.347917  0.219560  0.291156 -0.285015           1   \n",
       "3  0.420917  0.092448  0.293849  0.831146  1.010283  0.403635           1   \n",
       "4  0.420917  0.647369  1.577381  1.503891  1.729409  0.403635           1   \n",
       "5 -1.185748 -0.832419 -0.989683 -0.392027 -0.787533 -0.112853           1   \n",
       "\n",
       "       Wins  Type 1_Bug  Type 1_Dark  ...  Type 2_Ghost  Type 2_Grass  \\\n",
       "1 -0.753747           0            0  ...             0             0   \n",
       "2 -0.487719           0            0  ...             0             0   \n",
       "3  0.783306           0            0  ...             0             0   \n",
       "4  0.221690           0            0  ...             0             0   \n",
       "5 -0.221690           0            0  ...             0             0   \n",
       "\n",
       "   Type 2_Ground  Type 2_Ice  Type 2_Normal  Type 2_Poison  Type 2_Psychic  \\\n",
       "1              0           0              0              1               0   \n",
       "2              0           0              0              1               0   \n",
       "3              0           0              0              1               0   \n",
       "4              0           0              0              1               0   \n",
       "5              0           0              0              0               0   \n",
       "\n",
       "   Type 2_Rock  Type 2_Steel  Type 2_Water  \n",
       "1            0             0             0  \n",
       "2            0             0             0  \n",
       "3            0             0             0  \n",
       "4            0             0             0  \n",
       "5            0             0             0  \n",
       "\n",
       "[5 rows x 44 columns]"
      ]
     },
     "execution_count": 27,
     "metadata": {},
     "output_type": "execute_result"
    }
   ],
   "source": [
    "scaled_with_dummies_no_total.head()"
   ]
  },
  {
   "cell_type": "markdown",
   "id": "fbfdb6a4",
   "metadata": {},
   "source": [
    "#### Which n_neighbors is most optimal and what is the performance?"
   ]
  },
  {
   "cell_type": "code",
   "execution_count": 28,
   "id": "23d09e31",
   "metadata": {},
   "outputs": [
    {
     "name": "stdout",
     "output_type": "stream",
     "text": [
      "Optimal n_neighbors for model: {'n_neighbors': 19}\n",
      "Highest model performance: 0.9362499999999999\n"
     ]
    }
   ],
   "source": [
    "knn_all_features_no_total = KNeighborsClassifier()\n",
    "\n",
    "param_grid = {'n_neighbors': np.arange(3,101,2)}\n",
    "\n",
    "knn_all_features_no_total_gscv = GridSearchCV(knn_all_features_no_total, \n",
    "                                              param_grid, cv=5)\n",
    "knn_all_features_no_total_gscv.fit(scaled_with_dummies_no_total, \n",
    "                                   target_df)\n",
    "\n",
    "print(F\"Optimal n_neighbors for model: {knn_all_features_no_total_gscv.best_params_}\")\n",
    "print(F\"Highest model performance: {knn_all_features_no_total_gscv.best_score_}\")"
   ]
  },
  {
   "cell_type": "markdown",
   "id": "a4e1012d",
   "metadata": {},
   "source": [
    "This will establish our baseline.  Let's see if we can build a model that is less complex and performs better."
   ]
  },
  {
   "cell_type": "markdown",
   "id": "db8d0714",
   "metadata": {},
   "source": [
    "### Creating a model which swaps HP, Attack, Defense, Sp. Attack, and Sp. Defense for their aggregate `Total Stats`."
   ]
  },
  {
   "cell_type": "code",
   "execution_count": 29,
   "id": "098b0720",
   "metadata": {},
   "outputs": [],
   "source": [
    "stats_labels = numeric_cols_labels[1:]\n",
    "scaled_with_dummies_total = scaled_with_dummies.drop(stats_labels, \n",
    "                                                     axis=1)"
   ]
  },
  {
   "cell_type": "markdown",
   "id": "e6d1d105",
   "metadata": {},
   "source": [
    "#### Which n_neighbors is most optimal and what is the performance?"
   ]
  },
  {
   "cell_type": "code",
   "execution_count": 30,
   "id": "468cd644",
   "metadata": {},
   "outputs": [
    {
     "name": "stdout",
     "output_type": "stream",
     "text": [
      "Optimal n_neighbors for model: {'n_neighbors': 41}\n",
      "Highest model performance: 0.925\n"
     ]
    }
   ],
   "source": [
    "knn_all_features_with_total = KNeighborsClassifier()\n",
    "\n",
    "knn_all_features_with_total_gscv = GridSearchCV(knn_all_features_with_total, \n",
    "                                                param_grid, cv=5)\n",
    "knn_all_features_with_total_gscv.fit(scaled_with_dummies_total, \n",
    "                                     target_df)\n",
    "\n",
    "print(F\"Optimal n_neighbors for model: {knn_all_features_with_total_gscv.best_params_}\")\n",
    "print(F\"Highest model performance: {knn_all_features_with_total_gscv.best_score_}\")"
   ]
  },
  {
   "cell_type": "markdown",
   "id": "e8d65de9",
   "metadata": {},
   "source": [
    "Now the most optimal model for this new set of predictors sees worse performance and is more complex, with an optimal n_neighbors of 41.  I'd be a little concerned this model is overfitting."
   ]
  },
  {
   "cell_type": "markdown",
   "id": "43c9fb0e",
   "metadata": {},
   "source": [
    "### Creating a model using the predictors that were highly correlated with `Legendary`: `Total Stats`, `Sp. Atk`, `Sp. Def`, `Attack`, `Speed`, and `Wins`"
   ]
  },
  {
   "cell_type": "code",
   "execution_count": 31,
   "id": "2a6841f5",
   "metadata": {},
   "outputs": [],
   "source": [
    "individual_stats_and_wins = scaled_with_dummies[\n",
    "                                                ['Sp. Atk', \n",
    "                                                 'Sp. Def', \n",
    "                                                 'Attack', \n",
    "                                                 'Speed', \n",
    "                                                 'Wins']\n",
    "                                                ]"
   ]
  },
  {
   "cell_type": "markdown",
   "id": "9c241be6",
   "metadata": {},
   "source": [
    "#### Which n_neighbors is most optimal and what is the performance?"
   ]
  },
  {
   "cell_type": "code",
   "execution_count": 32,
   "id": "5349ec93",
   "metadata": {},
   "outputs": [
    {
     "name": "stdout",
     "output_type": "stream",
     "text": [
      "Optimal n_neighbors for model: {'n_neighbors': 15}\n",
      "Highest model performance: 0.9400000000000001\n"
     ]
    }
   ],
   "source": [
    "knn_individual_stats_and_wins = KNeighborsClassifier()\n",
    "\n",
    "knn_individual_stats_and_wins_gscv = GridSearchCV(knn_individual_stats_and_wins, \n",
    "                                                  param_grid, \n",
    "                                                  cv=5)\n",
    "knn_individual_stats_and_wins_gscv.fit(individual_stats_and_wins, \n",
    "                                       target_df)\n",
    "\n",
    "print(F\"Optimal n_neighbors for model: {knn_individual_stats_and_wins_gscv.best_params_}\")\n",
    "print(F\"Highest model performance: {knn_individual_stats_and_wins_gscv.best_score_}\")"
   ]
  },
  {
   "cell_type": "markdown",
   "id": "69699359",
   "metadata": {},
   "source": [
    "We're starting to see better performance with this set of predictors.  Now the optimal n_neighbors is only 15, with slightly better performance than our previous models, but we might be able to do better still."
   ]
  },
  {
   "cell_type": "markdown",
   "id": "cda48e25",
   "metadata": {
    "tags": []
   },
   "source": [
    "### Creating a model using only `Total Stats` and `Wins`"
   ]
  },
  {
   "cell_type": "code",
   "execution_count": 33,
   "id": "6634989a",
   "metadata": {},
   "outputs": [],
   "source": [
    "total_stats_and_wins = scaled_with_dummies[\n",
    "                                            ['Total Stats', \n",
    "                                             'Wins']\n",
    "                                            ]"
   ]
  },
  {
   "cell_type": "markdown",
   "id": "abc32b32",
   "metadata": {},
   "source": [
    "#### Which n_neighbors is most optimal and what is the performance?"
   ]
  },
  {
   "cell_type": "code",
   "execution_count": 34,
   "id": "2fc370d8",
   "metadata": {},
   "outputs": [
    {
     "name": "stdout",
     "output_type": "stream",
     "text": [
      "Optimal n_neighbors for model: {'n_neighbors': 3}\n",
      "Highest model performance: 0.9475000000000001\n"
     ]
    }
   ],
   "source": [
    "knn_total_stats_and_wins = KNeighborsClassifier()\n",
    "\n",
    "knn_total_stats_and_wins_gscv = GridSearchCV(knn_total_stats_and_wins, \n",
    "                                             param_grid, \n",
    "                                             cv=5)\n",
    "knn_total_stats_and_wins_gscv.fit(total_stats_and_wins, \n",
    "                                  target_df)\n",
    "\n",
    "print(F\"Optimal n_neighbors for model: {knn_total_stats_and_wins_gscv.best_params_}\")\n",
    "print(F\"Highest model performance: {knn_total_stats_and_wins_gscv.best_score_}\")"
   ]
  },
  {
   "cell_type": "markdown",
   "id": "99b1de28",
   "metadata": {},
   "source": [
    "Using just `Total Stats` and `Wins` as predictors results in a model that is much less complex, having an optimal n_neighbors of 3, and better performance than all our previous models.  Using these predictors for our model is best so far."
   ]
  },
  {
   "cell_type": "markdown",
   "id": "4e8412e4",
   "metadata": {},
   "source": [
    "### Creating a model using only `Total Stats`"
   ]
  },
  {
   "cell_type": "code",
   "execution_count": 35,
   "id": "358be181",
   "metadata": {},
   "outputs": [],
   "source": [
    "total_stats = scaled_with_dummies.loc[:,'Total Stats']\n",
    "total_stats = np.array(total_stats).reshape(-1,1)"
   ]
  },
  {
   "cell_type": "markdown",
   "id": "e246c15c",
   "metadata": {},
   "source": [
    "#### Which n_neighbors is most optimal and what is the performance?"
   ]
  },
  {
   "cell_type": "code",
   "execution_count": 36,
   "id": "8c328beb",
   "metadata": {},
   "outputs": [
    {
     "name": "stdout",
     "output_type": "stream",
     "text": [
      "Optimal n_neighbors for model: {'n_neighbors': 5}\n",
      "Highest model performance: 0.9575000000000001\n"
     ]
    }
   ],
   "source": [
    "knn_total_stats = KNeighborsClassifier()\n",
    "\n",
    "knn_total_stats_gscv = GridSearchCV(knn_total_stats, \n",
    "                                    param_grid, \n",
    "                                    cv=5)\n",
    "knn_total_stats_gscv.fit(total_stats, \n",
    "                         target_df)\n",
    "\n",
    "print(F\"Optimal n_neighbors for model: {knn_total_stats_gscv.best_params_}\")\n",
    "print(F\"Highest model performance: {knn_total_stats_gscv.best_score_}\")"
   ]
  },
  {
   "cell_type": "markdown",
   "id": "91a602dd",
   "metadata": {},
   "source": [
    "Slightly better performance, with a slightly more complex n_neighbors of 5, but now the model uses only one predictor.  Using predictors of `Total Stats`, or `Total Stats` and `Wins`, both seem like reasonable choices for our final model.  Let's investigate their performance a little further."
   ]
  },
  {
   "cell_type": "markdown",
   "id": "3bbfc5fa",
   "metadata": {},
   "source": [
    "## Further investigating performance of our two top models"
   ]
  },
  {
   "cell_type": "markdown",
   "id": "dc1604e7",
   "metadata": {
    "tags": []
   },
   "source": [
    "### Model: Total stats and wins"
   ]
  },
  {
   "cell_type": "code",
   "execution_count": 37,
   "id": "06ee6fc5",
   "metadata": {},
   "outputs": [],
   "source": [
    "X_train, X_test, y_train, y_test = train_test_split(total_stats_and_wins, \n",
    "                                                    target_df, \n",
    "                                                    test_size=0.2, \n",
    "                                                    random_state=5)"
   ]
  },
  {
   "cell_type": "markdown",
   "id": "6841373e",
   "metadata": {},
   "source": [
    "#### Fit and train the model, then generate predictions"
   ]
  },
  {
   "cell_type": "code",
   "execution_count": 38,
   "id": "ef50270c",
   "metadata": {},
   "outputs": [],
   "source": [
    "knn_total_stats_and_wins.set_params(n_neighbors=3)\n",
    "knn_total_stats_and_wins.fit(X_train, y_train)\n",
    "y_preds = knn_total_stats_and_wins.predict(X_test)"
   ]
  },
  {
   "cell_type": "markdown",
   "id": "ef825775",
   "metadata": {},
   "source": [
    "#### Check performance metrics"
   ]
  },
  {
   "cell_type": "code",
   "execution_count": 39,
   "id": "826f4723",
   "metadata": {},
   "outputs": [],
   "source": [
    "knn_total_stats_and_wins_score = knn_total_stats_and_wins.score(X_test, \n",
    "                                                                y_test)\n",
    "accuracy = accuracy_score(y_test, y_preds)\n",
    "f1 = f1_score(y_test, \n",
    "              y_preds, \n",
    "              pos_label=None, \n",
    "              average='weighted')\n",
    "precision = precision_score(y_test, \n",
    "                            y_preds, \n",
    "                            pos_label=None, \n",
    "                            average='weighted')\n",
    "recall = recall_score(y_test, \n",
    "                      y_preds, \n",
    "                      pos_label=None, \n",
    "                      average='weighted')"
   ]
  },
  {
   "cell_type": "code",
   "execution_count": 40,
   "id": "a05f8648",
   "metadata": {},
   "outputs": [
    {
     "data": {
      "text/plain": [
       "(0.9375, 0.9375, 0.9351069819819819, 0.9334579011592435, 0.9375)"
      ]
     },
     "execution_count": 40,
     "metadata": {},
     "output_type": "execute_result"
    }
   ],
   "source": [
    "knn_total_stats_and_wins_score, accuracy, f1, precision, recall"
   ]
  },
  {
   "cell_type": "code",
   "execution_count": 41,
   "id": "86a3e994",
   "metadata": {},
   "outputs": [
    {
     "name": "stdout",
     "output_type": "stream",
     "text": [
      "              precision    recall  f1-score   support\n",
      "\n",
      "       False       0.96      0.97      0.97       147\n",
      "        True       0.64      0.54      0.58        13\n",
      "\n",
      "    accuracy                           0.94       160\n",
      "   macro avg       0.80      0.76      0.77       160\n",
      "weighted avg       0.93      0.94      0.94       160\n",
      "\n"
     ]
    }
   ],
   "source": [
    "print(classification_report(y_test, y_preds))"
   ]
  },
  {
   "cell_type": "markdown",
   "id": "76282cb6",
   "metadata": {},
   "source": [
    "#### Check confusion matrix"
   ]
  },
  {
   "cell_type": "code",
   "execution_count": 42,
   "id": "e1c5a2da",
   "metadata": {},
   "outputs": [],
   "source": [
    "# plot_confusion_matrix(knn_total_stats_and_wins, \n",
    "#                       X_test, \n",
    "#                       y_test, \n",
    "#                       cmap='Greens', \n",
    "#                       display_labels=['Non-Legendary', 'Legendary'], \n",
    "#                       colorbar=False);"
   ]
  },
  {
   "cell_type": "code",
   "execution_count": 43,
   "id": "3e9e031f-ef11-4f70-92ae-072df22c2c1f",
   "metadata": {},
   "outputs": [
    {
     "data": {
      "image/png": "[encoded data removed]",
      "text/plain": [
       "<Figure size 432x288 with 1 Axes>"
      ]
     },
     "metadata": {
      "needs_background": "light"
     },
     "output_type": "display_data"
    }
   ],
   "source": [
    "ConfusionMatrixDisplay.from_estimator(knn_total_stats_and_wins, \n",
    "                                      X_test, \n",
    "                                      y_test,\n",
    "                                      cmap=\"Greens\",\n",
    "                                      display_labels=['Non-Legendary', 'Legendary'],\n",
    "                                      colorbar=False);"
   ]
  },
  {
   "cell_type": "markdown",
   "id": "cfb9832e",
   "metadata": {},
   "source": [
    "The model is very good at classifying non-legendary pokemon correctly, but is not as good at doing so for legendary pokemon.  Overall, precision, recall, and f1-score are all around 0.93-0.94.  The model seems heavily biased towards predicting a Pokémon will be non-legendary, with 149 out of 160 predictions (93.125%) being non-legendary.\n",
    "\n",
    "I'm curious to see many Pokémon are legendary in the entire dataset for generation 1-7.  Let's investigate."
   ]
  },
  {
   "cell_type": "code",
   "execution_count": 44,
   "id": "8211beb8-d3ac-4470-ab56-1154f1490a04",
   "metadata": {},
   "outputs": [
    {
     "data": {
      "text/plain": [
       "False    0.91875\n",
       "True     0.08125\n",
       "Name: Legendary, dtype: float64"
      ]
     },
     "execution_count": 44,
     "metadata": {},
     "output_type": "execute_result"
    }
   ],
   "source": [
    "pkmn_join['Legendary'].value_counts(normalize=True)"
   ]
  },
  {
   "cell_type": "markdown",
   "id": "a1949e9b-189f-44b2-9a6b-9245c81e6c91",
   "metadata": {},
   "source": [
    "Because there aren't that many legendary Pokémon in the game, an overwhelming majority are non-legendary (91.875%).  Knowing this, one could achieve roughly 92% accuracy on predictions by simply guessing non-legendary on any new Pokémon.\n",
    "\n",
    "The kNN model we constructed using `Total Stats` and `Wins` is only doing slightly better than that with roughly 94% accuracy.\n",
    "\n",
    "Let's see how our other top kNN model performs."
   ]
  },
  {
   "cell_type": "markdown",
   "id": "151c93ed",
   "metadata": {},
   "source": [
    "### Model: Total stats"
   ]
  },
  {
   "cell_type": "code",
   "execution_count": 45,
   "id": "8e379401",
   "metadata": {},
   "outputs": [],
   "source": [
    "X_train, X_test, y_train, y_test = train_test_split(total_stats, \n",
    "                                                    target_df, \n",
    "                                                    test_size=0.2, \n",
    "                                                    random_state=6)"
   ]
  },
  {
   "cell_type": "markdown",
   "id": "4d7bf659",
   "metadata": {},
   "source": [
    "#### Fit and train the model, then generate predictions"
   ]
  },
  {
   "cell_type": "code",
   "execution_count": 46,
   "id": "162bc943",
   "metadata": {},
   "outputs": [],
   "source": [
    "knn_total_stats.set_params(n_neighbors=5)\n",
    "knn_total_stats.fit(X_train, y_train)\n",
    "y_preds = knn_total_stats.predict(X_test)"
   ]
  },
  {
   "cell_type": "markdown",
   "id": "cc10fcf8",
   "metadata": {},
   "source": [
    "#### Check performance metrics"
   ]
  },
  {
   "cell_type": "code",
   "execution_count": 47,
   "id": "0aaddbeb",
   "metadata": {},
   "outputs": [],
   "source": [
    "# knn_total_stats_score = knn_total_stats.score(X_test, \n",
    "#                                               y_test)\n",
    "accuracy = accuracy_score(y_test, \n",
    "                          y_preds)\n",
    "f1 = f1_score(y_test, \n",
    "              y_preds, \n",
    "              pos_label=None, \n",
    "              average='weighted')\n",
    "precision = precision_score(y_test, \n",
    "                            y_preds, \n",
    "                            pos_label=None, \n",
    "                            average='weighted')\n",
    "recall = recall_score(y_test, \n",
    "                      y_preds, \n",
    "                      pos_label=None, \n",
    "                      average='weighted')"
   ]
  },
  {
   "cell_type": "code",
   "execution_count": 48,
   "id": "c0fd55fd",
   "metadata": {},
   "outputs": [
    {
     "data": {
      "text/plain": [
       "(0.9625, 0.9572499999999999, 0.9639705882352942, 0.9625)"
      ]
     },
     "execution_count": 48,
     "metadata": {},
     "output_type": "execute_result"
    }
   ],
   "source": [
    "accuracy, f1, precision, recall"
   ]
  },
  {
   "cell_type": "code",
   "execution_count": 49,
   "id": "9971db8b",
   "metadata": {},
   "outputs": [
    {
     "name": "stdout",
     "output_type": "stream",
     "text": [
      "              precision    recall  f1-score   support\n",
      "\n",
      "       False       0.96      1.00      0.98       147\n",
      "        True       1.00      0.54      0.70        13\n",
      "\n",
      "    accuracy                           0.96       160\n",
      "   macro avg       0.98      0.77      0.84       160\n",
      "weighted avg       0.96      0.96      0.96       160\n",
      "\n"
     ]
    }
   ],
   "source": [
    "print(classification_report(y_test, y_preds))"
   ]
  },
  {
   "cell_type": "markdown",
   "id": "ee24d8b8",
   "metadata": {},
   "source": [
    "#### Check confusion matrix"
   ]
  },
  {
   "cell_type": "code",
   "execution_count": 50,
   "id": "8a6ecfc0",
   "metadata": {},
   "outputs": [],
   "source": [
    "# plot_confusion_matrix(knn_total_stats, X_test, y_test, cmap='Greens', display_labels=['Non-Legendary', 'Legendary'], colorbar=False);"
   ]
  },
  {
   "cell_type": "code",
   "execution_count": 51,
   "id": "fbd1506c-7c8e-4214-8cdf-497cb386f798",
   "metadata": {},
   "outputs": [
    {
     "data": {
      "image/png": "[encoded data removed]",
      "text/plain": [
       "<Figure size 432x288 with 1 Axes>"
      ]
     },
     "metadata": {
      "needs_background": "light"
     },
     "output_type": "display_data"
    }
   ],
   "source": [
    "ConfusionMatrixDisplay.from_estimator(knn_total_stats, \n",
    "                                      X_test, \n",
    "                                      y_test,\n",
    "                                      cmap=\"Greens\",\n",
    "                                      display_labels=['Non-Legendary', 'Legendary'],\n",
    "                                      colorbar=False);"
   ]
  },
  {
   "cell_type": "markdown",
   "id": "89c1ff49",
   "metadata": {},
   "source": [
    "This model performs about the same as the previous one but is even more biased to predicting a new Pokémon as non-legendary, with 153 out of 160 predicted as being non-legendary (95.625%).\n",
    "\n",
    "Let's see how well both of these models predict on real testing data from a newer Pokémon generation."
   ]
  },
  {
   "cell_type": "markdown",
   "id": "de6c6452",
   "metadata": {},
   "source": [
    "## How does it perform on pokemon data from generation 7?"
   ]
  },
  {
   "cell_type": "code",
   "execution_count": 52,
   "id": "37910c5c",
   "metadata": {},
   "outputs": [],
   "source": [
    "complete = pd.read_csv(\"./pokemon_data/complete/pokemon_complete.csv\")"
   ]
  },
  {
   "cell_type": "code",
   "execution_count": 53,
   "id": "f92a3c39",
   "metadata": {},
   "outputs": [],
   "source": [
    "gen_7 = complete.loc[complete['generation']==7, \n",
    "                     ['pokedex_number', \n",
    "                      'name', \n",
    "                      'attack', \n",
    "                      'defense', \n",
    "                      'hp', \n",
    "                      'sp_attack', \n",
    "                      'sp_defense', \n",
    "                      'speed', \n",
    "                      'generation', \n",
    "                      'is_legendary']\n",
    "                    ]"
   ]
  },
  {
   "cell_type": "code",
   "execution_count": 54,
   "id": "40bbbfb4",
   "metadata": {},
   "outputs": [],
   "source": [
    "gen_7['total_stats'] = gen_7[['attack', \n",
    "                              'defense', \n",
    "                              'hp', \n",
    "                              'sp_attack', \n",
    "                              'sp_defense', \n",
    "                              'speed']].sum(axis=1)"
   ]
  },
  {
   "cell_type": "code",
   "execution_count": 55,
   "id": "ca7f130f",
   "metadata": {},
   "outputs": [
    {
     "data": {
      "text/plain": [
       "0    0.7875\n",
       "1    0.2125\n",
       "Name: is_legendary, dtype: float64"
      ]
     },
     "execution_count": 55,
     "metadata": {},
     "output_type": "execute_result"
    }
   ],
   "source": [
    "gen_7['is_legendary'].value_counts(normalize=True)"
   ]
  },
  {
   "cell_type": "markdown",
   "id": "79e6320e-03ad-49c2-b869-67955595ca13",
   "metadata": {},
   "source": [
    "Generation 7 is interesting because there's a much lower proportion of non-legendary pokemon in this generation (78.75%) as compared to only about 93% from generation 1-6 combined.  \n",
    "\n",
    "Given that the kNN models that were constructed earlier are biased towards predicting non-legendary, I imagine we'll see a pretty significant hit on accuracy and other metrics on the new generation 7 data."
   ]
  },
  {
   "cell_type": "code",
   "execution_count": 56,
   "id": "931a8469",
   "metadata": {},
   "outputs": [],
   "source": [
    "gen_7_total_stats = gen_7.loc[:, 'total_stats']\n",
    "gen_7_total_stats = np.array(gen_7_total_stats).reshape(-1, 1)\n",
    "\n",
    "scaler = StandardScaler()\n",
    "scaler.fit(gen_7_total_stats)\n",
    "gen_7_total_scaled = scaler.transform(gen_7_total_stats)\n",
    "#gen_7.loc[:, 'total_stats'] = gen_7_total_scaled\n",
    "X_gen_7 = gen_7_total_scaled"
   ]
  },
  {
   "cell_type": "code",
   "execution_count": 57,
   "id": "57912109",
   "metadata": {},
   "outputs": [],
   "source": [
    "gen_7.loc[:, 'is_legendary'] = gen_7.loc[:, 'is_legendary'].astype('bool')\n",
    "y_gen_7 = gen_7.loc[:, 'is_legendary']\n",
    "\n",
    "y_preds = knn_total_stats.predict(X_gen_7)"
   ]
  },
  {
   "cell_type": "code",
   "execution_count": 58,
   "id": "a5ee2a04",
   "metadata": {},
   "outputs": [],
   "source": [
    "# gen_7_total_stats_score = knn_total_stats.score(X_gen_7, \n",
    "#                                                 y_gen_7)\n",
    "accuracy = accuracy_score(y_gen_7, \n",
    "                          y_preds)\n",
    "f1 = f1_score(y_gen_7, \n",
    "              y_preds, \n",
    "              pos_label=None, \n",
    "              average='weighted')\n",
    "precision = precision_score(y_gen_7, \n",
    "                            y_preds, \n",
    "                            pos_label=None, \n",
    "                            average='weighted')\n",
    "recall = recall_score(y_gen_7, \n",
    "                      y_preds, \n",
    "                      pos_label=None, \n",
    "                      average='weighted')"
   ]
  },
  {
   "cell_type": "code",
   "execution_count": 59,
   "id": "da295b05",
   "metadata": {},
   "outputs": [
    {
     "data": {
      "text/plain": [
       "(0.8125, 0.7484602463605823, 0.8485576923076923, 0.8125)"
      ]
     },
     "execution_count": 59,
     "metadata": {},
     "output_type": "execute_result"
    }
   ],
   "source": [
    "accuracy, f1, precision, recall"
   ]
  },
  {
   "cell_type": "code",
   "execution_count": 60,
   "id": "71e59649",
   "metadata": {},
   "outputs": [
    {
     "name": "stdout",
     "output_type": "stream",
     "text": [
      "              precision    recall  f1-score   support\n",
      "\n",
      "       False       0.81      1.00      0.89        63\n",
      "        True       1.00      0.12      0.21        17\n",
      "\n",
      "    accuracy                           0.81        80\n",
      "   macro avg       0.90      0.56      0.55        80\n",
      "weighted avg       0.85      0.81      0.75        80\n",
      "\n"
     ]
    }
   ],
   "source": [
    "print(classification_report(y_gen_7, y_preds))"
   ]
  },
  {
   "cell_type": "markdown",
   "id": "2b7f4031-2221-437b-8ec6-62145da0391f",
   "metadata": {},
   "source": [
    "All of our metrics have decreased, with 81.25% accuracy.  Given that our data set had about 78% non-legendary Pokémon in it, this makes sense for a model that has a strong tendency to predict non-legendary."
   ]
  },
  {
   "cell_type": "code",
   "execution_count": 61,
   "id": "f1cfdd8b",
   "metadata": {},
   "outputs": [],
   "source": [
    "# plot_confusion_matrix(knn_total_stats, X_gen_7, y_gen_7, cmap='Greens', display_labels=['Non-Legendary', 'Legendary'], colorbar=False);"
   ]
  },
  {
   "cell_type": "code",
   "execution_count": 62,
   "id": "2496b151-c68d-4fb2-b57b-b7c312492662",
   "metadata": {},
   "outputs": [
    {
     "data": {
      "image/png": "[encoded data removed]",
      "text/plain": [
       "<Figure size 432x288 with 1 Axes>"
      ]
     },
     "metadata": {
      "needs_background": "light"
     },
     "output_type": "display_data"
    }
   ],
   "source": [
    "ConfusionMatrixDisplay.from_estimator(knn_total_stats, \n",
    "                                      X_gen_7, \n",
    "                                      y_gen_7,\n",
    "                                      cmap=\"Greens\",\n",
    "                                      display_labels=['Non-Legendary', 'Legendary'],\n",
    "                                      colorbar=False);"
   ]
  },
  {
   "cell_type": "markdown",
   "id": "5e3c1e9d",
   "metadata": {},
   "source": [
    "Looking at the confusion matrix, we see that the model has predicted all but 2 Pokémon as being non-legendary.  Since a larger than usual proportion of Pokémon are legendary in generation 7, the kNN model that predominantly predict non-legendary is seeing a heavy hit on its accuracy and is probably not a very useful model to use.  \n",
    "\n",
    "Moving on."
   ]
  },
  {
   "cell_type": "markdown",
   "id": "d71158aa-76b4-48a1-a823-5040123bb999",
   "metadata": {},
   "source": [
    "# Logistic Regression\n",
    "Because we already have a reasonable idea of which features are most correlated with a Pokémon being legendary, I'll create a logistic regression model that uses `Total Stats` and check its performance on new generation 7 Pokémon data, then compare against the kNN model from earlier."
   ]
  },
  {
   "cell_type": "markdown",
   "id": "cd51f115-756c-463e-9321-8a3c9291d4f5",
   "metadata": {},
   "source": [
    "## `Total Stats`"
   ]
  },
  {
   "cell_type": "code",
   "execution_count": 63,
   "id": "8201befc-581b-4a02-8599-befc7ced0635",
   "metadata": {},
   "outputs": [
    {
     "name": "stdout",
     "output_type": "stream",
     "text": [
      "Optimization terminated successfully.\n",
      "         Current function value: 0.380847\n",
      "         Iterations 6\n"
     ]
    }
   ],
   "source": [
    "X = pkmn_join[['Total Stats']]\n",
    "y = target_df\n",
    "\n",
    "sm_log_reg_model = sm.Logit(y, X)\n",
    "sm_log_reg_fit = sm_log_reg_model.fit()"
   ]
  },
  {
   "cell_type": "code",
   "execution_count": 64,
   "id": "8ed5a190-159c-46fa-9d1f-6c5e4b4f4a8b",
   "metadata": {},
   "outputs": [
    {
     "data": {
      "text/html": [
       "<table class=\"simpletable\">\n",
       "<caption>Logit Regression Results</caption>\n",
       "<tr>\n",
       "  <th>Dep. Variable:</th>       <td>Legendary</td>    <th>  No. Observations:  </th>  <td>   800</td> \n",
       "</tr>\n",
       "<tr>\n",
       "  <th>Model:</th>                 <td>Logit</td>      <th>  Df Residuals:      </th>  <td>   799</td> \n",
       "</tr>\n",
       "<tr>\n",
       "  <th>Method:</th>                 <td>MLE</td>       <th>  Df Model:          </th>  <td>     0</td> \n",
       "</tr>\n",
       "<tr>\n",
       "  <th>Date:</th>            <td>Sun, 24 Jul 2022</td> <th>  Pseudo R-squ.:     </th>  <td>-0.3514</td>\n",
       "</tr>\n",
       "<tr>\n",
       "  <th>Time:</th>                <td>14:09:29</td>     <th>  Log-Likelihood:    </th> <td> -304.68</td>\n",
       "</tr>\n",
       "<tr>\n",
       "  <th>converged:</th>             <td>True</td>       <th>  LL-Null:           </th> <td> -225.45</td>\n",
       "</tr>\n",
       "<tr>\n",
       "  <th>Covariance Type:</th>     <td>nonrobust</td>    <th>  LLR p-value:       </th>  <td>   nan</td> \n",
       "</tr>\n",
       "</table>\n",
       "<table class=\"simpletable\">\n",
       "<tr>\n",
       "       <td></td>          <th>coef</th>     <th>std err</th>      <th>z</th>      <th>P>|z|</th>  <th>[0.025</th>    <th>0.975]</th>  \n",
       "</tr>\n",
       "<tr>\n",
       "  <th>Total Stats</th> <td>   -0.0045</td> <td>    0.000</td> <td>  -17.417</td> <td> 0.000</td> <td>   -0.005</td> <td>   -0.004</td>\n",
       "</tr>\n",
       "</table>"
      ],
      "text/plain": [
       "<class 'statsmodels.iolib.summary.Summary'>\n",
       "\"\"\"\n",
       "                           Logit Regression Results                           \n",
       "==============================================================================\n",
       "Dep. Variable:              Legendary   No. Observations:                  800\n",
       "Model:                          Logit   Df Residuals:                      799\n",
       "Method:                           MLE   Df Model:                            0\n",
       "Date:                Sun, 24 Jul 2022   Pseudo R-squ.:                 -0.3514\n",
       "Time:                        14:09:29   Log-Likelihood:                -304.68\n",
       "converged:                       True   LL-Null:                       -225.45\n",
       "Covariance Type:            nonrobust   LLR p-value:                       nan\n",
       "===============================================================================\n",
       "                  coef    std err          z      P>|z|      [0.025      0.975]\n",
       "-------------------------------------------------------------------------------\n",
       "Total Stats    -0.0045      0.000    -17.417      0.000      -0.005      -0.004\n",
       "===============================================================================\n",
       "\"\"\""
      ]
     },
     "execution_count": 64,
     "metadata": {},
     "output_type": "execute_result"
    }
   ],
   "source": [
    "sm_log_reg_fit.summary()"
   ]
  },
  {
   "cell_type": "markdown",
   "id": "5451cb21-df23-47a6-a567-48ae73b58f0d",
   "metadata": {},
   "source": [
    "The summary output for the logistic regression model shows that `Total Stats` is a statistically significant predictor with a P-value of $\\approx 0$\n",
    "\n",
    "The coefficient of -0.0045 means that for a one unit increase in `Total Stats` we expect to see a decrease of 0.0045 in the log odds for predicting a Pokémon as non-legendary.  In other words, Pokémon with higher total stats are less likely to be non-legendary."
   ]
  },
  {
   "cell_type": "code",
   "execution_count": 65,
   "id": "83e83e96-ecd4-410a-9613-4bf379443d2a",
   "metadata": {},
   "outputs": [],
   "source": [
    "sk_log_reg_model = LogisticRegression()\n",
    "sk_log_reg_fit = sk_log_reg_model.fit(X, y)\n",
    "\n",
    "y_prob_non_legendary = sk_log_reg_fit.predict_proba(X)\n",
    "\n",
    "log_reg_proba_df = pd.concat([pkmn_join[['Total Stats', 'Legendary']],\n",
    "                             pd.Series(y_prob_non_legendary[:, 0],\n",
    "                             index=np.arange(1, 801),\n",
    "                             name='Predicted Probability')], axis=1)"
   ]
  },
  {
   "cell_type": "code",
   "execution_count": 66,
   "id": "d5a327a3-cc5b-413d-b3a5-803b34f777b3",
   "metadata": {},
   "outputs": [
    {
     "data": {
      "image/png": "[encoded data removed]",
      "text/plain": [
       "<Figure size 432x288 with 1 Axes>"
      ]
     },
     "metadata": {
      "needs_background": "light"
     },
     "output_type": "display_data"
    }
   ],
   "source": [
    "sns.scatterplot(x='Total Stats',\n",
    "                y='Predicted Probability',\n",
    "                data=log_reg_proba_df,\n",
    "                hue='Legendary');"
   ]
  },
  {
   "cell_type": "markdown",
   "id": "4a67b96e-408a-40eb-a17f-86585cf54a22",
   "metadata": {},
   "source": [
    "The graph above provides a nice visual representation of what the -0.0045 coefficient from the summary above represents.  We can see that as `Total Stats` increases, the predicted probabilities of a Pokémon being non-legendary decrease.  This makes sense as most of the Pokémon with the highest `Total Stats` are legendary."
   ]
  },
  {
   "cell_type": "code",
   "execution_count": 67,
   "id": "ac959fc2-cb53-4422-9784-0dd23f68daa9",
   "metadata": {},
   "outputs": [],
   "source": [
    "cv = RepeatedKFold(n_splits=10, n_repeats=3, random_state=1)\n",
    "\n",
    "sk_log_reg_model = LogisticRegression()\n",
    "\n",
    "sk_log_reg_scores = cross_val_score(sk_log_reg_model, X, y, scoring='accuracy', cv=cv, n_jobs=-1)"
   ]
  },
  {
   "cell_type": "code",
   "execution_count": 68,
   "id": "92416a7e-571b-448b-b207-f537012391a4",
   "metadata": {},
   "outputs": [
    {
     "name": "stdout",
     "output_type": "stream",
     "text": [
      "k-Fold Repeated Cross Validation\n",
      "--------------------------------\n",
      "Average Testing Accuracy: 0.934\n",
      "Average Testing Error: 0.066\n",
      "Std Dev: 0.025\n"
     ]
    }
   ],
   "source": [
    "print(\"k-Fold Repeated Cross Validation\")\n",
    "print(\"--------------------------------\")\n",
    "print(F\"Average Testing Accuracy: {sk_log_reg_scores.mean():.3f}\")\n",
    "print(F\"Average Testing Error: {1 - sk_log_reg_scores.mean():.3f}\")\n",
    "print(F\"Std Dev: {sk_log_reg_scores.std():.3f}\")"
   ]
  },
  {
   "cell_type": "markdown",
   "id": "05944983-d134-456d-b2dc-10f280954654",
   "metadata": {},
   "source": [
    "After performing k-fold repeated cross validation, we can get an estimate of what our testing error will be for the logistic regression model.  On average, we expect roughly 93% accuracy, with a standard deviation of 2.5%."
   ]
  },
  {
   "cell_type": "markdown",
   "id": "eb3096a2-dfef-4fba-94b7-b5b81cd44dcd",
   "metadata": {},
   "source": [
    "## Gen 7 Testing"
   ]
  },
  {
   "cell_type": "code",
   "execution_count": 69,
   "id": "fbcb2c8d-50a1-4bd3-a333-79f562de3724",
   "metadata": {},
   "outputs": [],
   "source": [
    "X_train, X_test, y_train, y_test = train_test_split(X, y, test_size = 0.1, random_state=0)\n",
    "\n",
    "sk_log_reg_fit = sk_log_reg_model.fit(X_train, y_train)"
   ]
  },
  {
   "cell_type": "code",
   "execution_count": 70,
   "id": "08b82453-b20a-454b-b39d-1ce5e89302d0",
   "metadata": {},
   "outputs": [
    {
     "name": "stdout",
     "output_type": "stream",
     "text": [
      "Gen 7 Accuracy: 0.812\n",
      "Gen 7 error: 0.188\n"
     ]
    },
    {
     "name": "stderr",
     "output_type": "stream",
     "text": [
      "/Users/rancher/opt/anaconda3/envs/ox/lib/python3.9/site-packages/sklearn/base.py:450: UserWarning: X does not have valid feature names, but LogisticRegression was fitted with feature names\n",
      "  warnings.warn(\n"
     ]
    }
   ],
   "source": [
    "sk_log_reg_gen_7_preds = sk_log_reg_fit.predict(np.array(gen_7['total_stats']).reshape(-1,1))\n",
    "\n",
    "# lr_preds\n",
    "# preds = log_reg_fit_auto.predict(X_test_imp_features)\n",
    "# pred_mpg01 = np.where(preds <= 0.5, 0, 1)\n",
    "\n",
    "accuracy = accuracy_score(y_gen_7, sk_log_reg_gen_7_preds)\n",
    "test_error = 1 - accuracy\n",
    "print(F\"Gen 7 Accuracy: {accuracy:.3f}\")\n",
    "print(F\"Gen 7 error: {test_error:.3f}\")"
   ]
  },
  {
   "cell_type": "code",
   "execution_count": 71,
   "id": "6fd75dc3-f8fc-4df0-86e4-5477c793955d",
   "metadata": {},
   "outputs": [
    {
     "name": "stderr",
     "output_type": "stream",
     "text": [
      "/Users/rancher/opt/anaconda3/envs/ox/lib/python3.9/site-packages/sklearn/base.py:450: UserWarning: X does not have valid feature names, but LogisticRegression was fitted with feature names\n",
      "  warnings.warn(\n"
     ]
    },
    {
     "data": {
      "image/png": "[encoded data removed]",
      "text/plain": [
       "<Figure size 432x288 with 1 Axes>"
      ]
     },
     "metadata": {
      "needs_background": "light"
     },
     "output_type": "display_data"
    }
   ],
   "source": [
    "ConfusionMatrixDisplay.from_estimator(sk_log_reg_fit, \n",
    "                                      np.array(gen_7['total_stats']).reshape(-1,1), \n",
    "                                      y_gen_7,\n",
    "                                      cmap=\"Greens\",\n",
    "                                      display_labels=['Non-Legendary', 'Legendary'],\n",
    "                                      colorbar=False);"
   ]
  },
  {
   "cell_type": "markdown",
   "id": "01fc55c7-5aa7-4074-afe0-36cb6cc86cd9",
   "metadata": {},
   "source": [
    "Using logistic regression on the generation 7 data produces the exact same predictions as our kNN model and we see the same accuracy (82%).  The logistic regression model is also heavily biased towards predicting a Pokémon is non-legendary.\n",
    "\n",
    "kNN and now Logistic regression both don't look like a great models to use.  Perhaps a different type of model would perform better, but for now it we're left in the dark. "
   ]
  },
  {
   "cell_type": "markdown",
   "id": "a4e852d2",
   "metadata": {},
   "source": [
    "# The end"
   ]
  }
 ],
 "metadata": {
  "jupytext": {
   "formats": "ipynb,py:percent"
  },
  "kernelspec": {
   "display_name": "Python 3 (ipykernel)",
   "language": "python",
   "name": "python3"
  },
  "language_info": {
   "codemirror_mode": {
    "name": "ipython",
    "version": 3
   },
   "file_extension": ".py",
   "mimetype": "text/x-python",
   "name": "python",
   "nbconvert_exporter": "python",
   "pygments_lexer": "ipython3",
   "version": "3.9.12"
  },
  "toc-autonumbering": false,
  "toc-showcode": false,
  "toc-showmarkdowntxt": false,
  "toc-showtags": false
 },
 "nbformat": 4,
 "nbformat_minor": 5
}
