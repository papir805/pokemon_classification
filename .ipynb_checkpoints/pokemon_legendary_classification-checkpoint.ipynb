{
 "cells": [
  {
   "cell_type": "code",
   "execution_count": 1,
   "id": "0296ba57-05cd-46fe-90f3-5981b087e381",
   "metadata": {},
   "outputs": [],
   "source": [
    "import pandas as pd\n",
    "import numpy as np\n",
    "import matplotlib.pyplot as plt\n",
    "import seaborn as sns\n",
    "\n",
    "sns.set_style('darkgrid')\n",
    "%matplotlib inline"
   ]
  },
  {
   "cell_type": "code",
   "execution_count": 2,
   "id": "9ef5afc3-a728-4ea2-9740-6fb280e6aae8",
   "metadata": {},
   "outputs": [],
   "source": [
    "pkmn = pd.read_csv('Pokemon_with_correct_pkmn_numbers.csv')\n",
    "pkmn.rename(columns=({'#':'Number', 'Total':'Total Stats'}), inplace=True)\n",
    "# This way the index starts at 1 and we can correctly join pkmn and combats tables later\n",
    "pkmn.index = pkmn.index + 1\n",
    "\n",
    "combats = pd.read_csv(\"./pokemon_data/combats.csv\")"
   ]
  },
  {
   "cell_type": "code",
   "execution_count": 3,
   "id": "0e0caa10-6bbb-4c18-8e24-e59aa0a1ba44",
   "metadata": {},
   "outputs": [
    {
     "data": {
      "text/html": [
       "<div>\n",
       "<style scoped>\n",
       "    .dataframe tbody tr th:only-of-type {\n",
       "        vertical-align: middle;\n",
       "    }\n",
       "\n",
       "    .dataframe tbody tr th {\n",
       "        vertical-align: top;\n",
       "    }\n",
       "\n",
       "    .dataframe thead th {\n",
       "        text-align: right;\n",
       "    }\n",
       "</style>\n",
       "<table border=\"1\" class=\"dataframe\">\n",
       "  <thead>\n",
       "    <tr style=\"text-align: right;\">\n",
       "      <th></th>\n",
       "      <th>Number</th>\n",
       "      <th>Name</th>\n",
       "      <th>Type 1</th>\n",
       "      <th>Type 2</th>\n",
       "      <th>Total Stats</th>\n",
       "      <th>HP</th>\n",
       "      <th>Attack</th>\n",
       "      <th>Defense</th>\n",
       "      <th>Sp. Atk</th>\n",
       "      <th>Sp. Def</th>\n",
       "      <th>Speed</th>\n",
       "      <th>Generation</th>\n",
       "      <th>Legendary</th>\n",
       "    </tr>\n",
       "  </thead>\n",
       "  <tbody>\n",
       "    <tr>\n",
       "      <th>1</th>\n",
       "      <td>1</td>\n",
       "      <td>Bulbasaur</td>\n",
       "      <td>Grass</td>\n",
       "      <td>Poison</td>\n",
       "      <td>318</td>\n",
       "      <td>45</td>\n",
       "      <td>49</td>\n",
       "      <td>49</td>\n",
       "      <td>65</td>\n",
       "      <td>65</td>\n",
       "      <td>45</td>\n",
       "      <td>1</td>\n",
       "      <td>False</td>\n",
       "    </tr>\n",
       "    <tr>\n",
       "      <th>2</th>\n",
       "      <td>2</td>\n",
       "      <td>Ivysaur</td>\n",
       "      <td>Grass</td>\n",
       "      <td>Poison</td>\n",
       "      <td>405</td>\n",
       "      <td>60</td>\n",
       "      <td>62</td>\n",
       "      <td>63</td>\n",
       "      <td>80</td>\n",
       "      <td>80</td>\n",
       "      <td>60</td>\n",
       "      <td>1</td>\n",
       "      <td>False</td>\n",
       "    </tr>\n",
       "    <tr>\n",
       "      <th>3</th>\n",
       "      <td>3</td>\n",
       "      <td>Venusaur</td>\n",
       "      <td>Grass</td>\n",
       "      <td>Poison</td>\n",
       "      <td>525</td>\n",
       "      <td>80</td>\n",
       "      <td>82</td>\n",
       "      <td>83</td>\n",
       "      <td>100</td>\n",
       "      <td>100</td>\n",
       "      <td>80</td>\n",
       "      <td>1</td>\n",
       "      <td>False</td>\n",
       "    </tr>\n",
       "    <tr>\n",
       "      <th>4</th>\n",
       "      <td>3</td>\n",
       "      <td>VenusaurMega Venusaur</td>\n",
       "      <td>Grass</td>\n",
       "      <td>Poison</td>\n",
       "      <td>625</td>\n",
       "      <td>80</td>\n",
       "      <td>100</td>\n",
       "      <td>123</td>\n",
       "      <td>122</td>\n",
       "      <td>120</td>\n",
       "      <td>80</td>\n",
       "      <td>1</td>\n",
       "      <td>False</td>\n",
       "    </tr>\n",
       "    <tr>\n",
       "      <th>5</th>\n",
       "      <td>4</td>\n",
       "      <td>Charmander</td>\n",
       "      <td>Fire</td>\n",
       "      <td>NaN</td>\n",
       "      <td>309</td>\n",
       "      <td>39</td>\n",
       "      <td>52</td>\n",
       "      <td>43</td>\n",
       "      <td>60</td>\n",
       "      <td>50</td>\n",
       "      <td>65</td>\n",
       "      <td>1</td>\n",
       "      <td>False</td>\n",
       "    </tr>\n",
       "  </tbody>\n",
       "</table>\n",
       "</div>"
      ],
      "text/plain": [
       "   Number                   Name Type 1  Type 2  Total Stats  HP  Attack  \\\n",
       "1       1              Bulbasaur  Grass  Poison          318  45      49   \n",
       "2       2                Ivysaur  Grass  Poison          405  60      62   \n",
       "3       3               Venusaur  Grass  Poison          525  80      82   \n",
       "4       3  VenusaurMega Venusaur  Grass  Poison          625  80     100   \n",
       "5       4             Charmander   Fire     NaN          309  39      52   \n",
       "\n",
       "   Defense  Sp. Atk  Sp. Def  Speed  Generation  Legendary  \n",
       "1       49       65       65     45           1      False  \n",
       "2       63       80       80     60           1      False  \n",
       "3       83      100      100     80           1      False  \n",
       "4      123      122      120     80           1      False  \n",
       "5       43       60       50     65           1      False  "
      ]
     },
     "execution_count": 3,
     "metadata": {},
     "output_type": "execute_result"
    }
   ],
   "source": [
    "# Note that while Number is not unique, as pokemon like Venusaur and Mega Venusaur both have Number 3, their row index is unique.  This is important bc our combats data keeps track of winners using a pokemon's row index, NOT its pokemon number.  \n",
    "pkmn.head()"
   ]
  },
  {
   "cell_type": "code",
   "execution_count": 4,
   "id": "cd6a0538-dff3-491e-8790-7fc1da3d3b39",
   "metadata": {},
   "outputs": [
    {
     "name": "stdout",
     "output_type": "stream",
     "text": [
      "The pkmn df has row index starting at 1 and ending at 800\n",
      "While the min pkmn.Number is 1 and the max pkmn.Number is 721\n"
     ]
    }
   ],
   "source": [
    "print(F\"The pkmn df has row index starting at {pkmn.index.min()} and ending at {pkmn.index.max()}\")\n",
    "print(F\"While the min pkmn.Number is {pkmn.Number.min()} and the max pkmn.Number is {pkmn.Number.max()}\")"
   ]
  },
  {
   "cell_type": "code",
   "execution_count": 5,
   "id": "8e1eda9d-c659-4a40-983b-188159e9821d",
   "metadata": {},
   "outputs": [
    {
     "data": {
      "text/html": [
       "<div>\n",
       "<style scoped>\n",
       "    .dataframe tbody tr th:only-of-type {\n",
       "        vertical-align: middle;\n",
       "    }\n",
       "\n",
       "    .dataframe tbody tr th {\n",
       "        vertical-align: top;\n",
       "    }\n",
       "\n",
       "    .dataframe thead th {\n",
       "        text-align: right;\n",
       "    }\n",
       "</style>\n",
       "<table border=\"1\" class=\"dataframe\">\n",
       "  <thead>\n",
       "    <tr style=\"text-align: right;\">\n",
       "      <th></th>\n",
       "      <th>First_pokemon</th>\n",
       "      <th>Second_pokemon</th>\n",
       "      <th>Winner</th>\n",
       "    </tr>\n",
       "  </thead>\n",
       "  <tbody>\n",
       "    <tr>\n",
       "      <th>0</th>\n",
       "      <td>266</td>\n",
       "      <td>298</td>\n",
       "      <td>298</td>\n",
       "    </tr>\n",
       "    <tr>\n",
       "      <th>1</th>\n",
       "      <td>702</td>\n",
       "      <td>701</td>\n",
       "      <td>701</td>\n",
       "    </tr>\n",
       "    <tr>\n",
       "      <th>2</th>\n",
       "      <td>191</td>\n",
       "      <td>668</td>\n",
       "      <td>668</td>\n",
       "    </tr>\n",
       "    <tr>\n",
       "      <th>3</th>\n",
       "      <td>237</td>\n",
       "      <td>683</td>\n",
       "      <td>683</td>\n",
       "    </tr>\n",
       "    <tr>\n",
       "      <th>4</th>\n",
       "      <td>151</td>\n",
       "      <td>231</td>\n",
       "      <td>151</td>\n",
       "    </tr>\n",
       "  </tbody>\n",
       "</table>\n",
       "</div>"
      ],
      "text/plain": [
       "   First_pokemon  Second_pokemon  Winner\n",
       "0            266             298     298\n",
       "1            702             701     701\n",
       "2            191             668     668\n",
       "3            237             683     683\n",
       "4            151             231     151"
      ]
     },
     "execution_count": 5,
     "metadata": {},
     "output_type": "execute_result"
    }
   ],
   "source": [
    "combats.head()"
   ]
  },
  {
   "cell_type": "code",
   "execution_count": 6,
   "id": "eef43cf7-0dd3-443f-8c70-498601e1118d",
   "metadata": {},
   "outputs": [
    {
     "data": {
      "text/plain": [
       "count    50000.000000\n",
       "mean       408.890100\n",
       "std        231.159961\n",
       "min          1.000000\n",
       "25%        206.000000\n",
       "50%        422.000000\n",
       "75%        606.000000\n",
       "max        800.000000\n",
       "Name: Winner, dtype: float64"
      ]
     },
     "execution_count": 6,
     "metadata": {},
     "output_type": "execute_result"
    }
   ],
   "source": [
    "# Looking at our combats data, our max number for Winner is 800.  This is because a winning pokemon is identified by the row index in the pkmn df.  Winner DOES NOT correspond to pkmn Number.\n",
    "combats['Winner'].describe()"
   ]
  },
  {
   "cell_type": "markdown",
   "id": "32d6dcab-d92d-44df-bef8-c9bef05bd338",
   "metadata": {},
   "source": [
    "# Joins"
   ]
  },
  {
   "cell_type": "markdown",
   "id": "e39b626c-2d7d-4862-9e0d-7f1e8da9fc9d",
   "metadata": {},
   "source": [
    "## Identify names of pokemon in winning battles"
   ]
  },
  {
   "cell_type": "code",
   "execution_count": 7,
   "id": "4905b7dd-878a-4ab5-a21c-94fd6a9aa9c2",
   "metadata": {},
   "outputs": [
    {
     "data": {
      "text/html": [
       "<div>\n",
       "<style scoped>\n",
       "    .dataframe tbody tr th:only-of-type {\n",
       "        vertical-align: middle;\n",
       "    }\n",
       "\n",
       "    .dataframe tbody tr th {\n",
       "        vertical-align: top;\n",
       "    }\n",
       "\n",
       "    .dataframe thead th {\n",
       "        text-align: right;\n",
       "    }\n",
       "</style>\n",
       "<table border=\"1\" class=\"dataframe\">\n",
       "  <thead>\n",
       "    <tr style=\"text-align: right;\">\n",
       "      <th></th>\n",
       "      <th>First_pokemon</th>\n",
       "      <th>Second_pokemon</th>\n",
       "      <th>Winner</th>\n",
       "      <th>winner_name</th>\n",
       "    </tr>\n",
       "  </thead>\n",
       "  <tbody>\n",
       "    <tr>\n",
       "      <th>0</th>\n",
       "      <td>266</td>\n",
       "      <td>298</td>\n",
       "      <td>298</td>\n",
       "      <td>Nuzleaf</td>\n",
       "    </tr>\n",
       "    <tr>\n",
       "      <th>1</th>\n",
       "      <td>702</td>\n",
       "      <td>701</td>\n",
       "      <td>701</td>\n",
       "      <td>Terrakion</td>\n",
       "    </tr>\n",
       "    <tr>\n",
       "      <th>2</th>\n",
       "      <td>191</td>\n",
       "      <td>668</td>\n",
       "      <td>668</td>\n",
       "      <td>Beheeyem</td>\n",
       "    </tr>\n",
       "    <tr>\n",
       "      <th>3</th>\n",
       "      <td>237</td>\n",
       "      <td>683</td>\n",
       "      <td>683</td>\n",
       "      <td>Druddigon</td>\n",
       "    </tr>\n",
       "    <tr>\n",
       "      <th>4</th>\n",
       "      <td>151</td>\n",
       "      <td>231</td>\n",
       "      <td>151</td>\n",
       "      <td>Omastar</td>\n",
       "    </tr>\n",
       "  </tbody>\n",
       "</table>\n",
       "</div>"
      ],
      "text/plain": [
       "   First_pokemon  Second_pokemon  Winner winner_name\n",
       "0            266             298     298     Nuzleaf\n",
       "1            702             701     701   Terrakion\n",
       "2            191             668     668    Beheeyem\n",
       "3            237             683     683   Druddigon\n",
       "4            151             231     151     Omastar"
      ]
     },
     "execution_count": 7,
     "metadata": {},
     "output_type": "execute_result"
    }
   ],
   "source": [
    "# Join combats to pkmn table using the row indices (1, 800) for the pkmn table.  This ensures that a pokemon like Venusaur vs. Mega Venusaur will each have their own appropriate number of wins. \n",
    "combats_join = pd.merge(combats, pkmn[['Name']], left_on='Winner', right_index=True, how='left')\n",
    "combats_join.rename(columns={'Name':\"winner_name\"}, inplace=True)\n",
    "combats_join.head()"
   ]
  },
  {
   "cell_type": "code",
   "execution_count": 8,
   "id": "f2ce8fa1-6e87-403a-afe0-1d9f81b05ce7",
   "metadata": {},
   "outputs": [],
   "source": [
    "# Check to see if join was done correctly\n",
    "\n",
    "\n"
   ]
  },
  {
   "cell_type": "markdown",
   "id": "0ad7e81a-315c-43f0-a941-7ed150893387",
   "metadata": {},
   "source": [
    "## Identifying number of wins for each pokemon from battles data"
   ]
  },
  {
   "cell_type": "code",
   "execution_count": 9,
   "id": "c2786d03-c6c8-4bd3-a1dc-0326472d36b8",
   "metadata": {},
   "outputs": [
    {
     "data": {
      "text/html": [
       "<div>\n",
       "<style scoped>\n",
       "    .dataframe tbody tr th:only-of-type {\n",
       "        vertical-align: middle;\n",
       "    }\n",
       "\n",
       "    .dataframe tbody tr th {\n",
       "        vertical-align: top;\n",
       "    }\n",
       "\n",
       "    .dataframe thead th {\n",
       "        text-align: right;\n",
       "    }\n",
       "</style>\n",
       "<table border=\"1\" class=\"dataframe\">\n",
       "  <thead>\n",
       "    <tr style=\"text-align: right;\">\n",
       "      <th></th>\n",
       "      <th>Number</th>\n",
       "      <th>Name</th>\n",
       "      <th>Type 1</th>\n",
       "      <th>Type 2</th>\n",
       "      <th>Total Stats</th>\n",
       "      <th>HP</th>\n",
       "      <th>Attack</th>\n",
       "      <th>Defense</th>\n",
       "      <th>Sp. Atk</th>\n",
       "      <th>Sp. Def</th>\n",
       "      <th>Speed</th>\n",
       "      <th>Generation</th>\n",
       "      <th>Legendary</th>\n",
       "      <th>Wins</th>\n",
       "    </tr>\n",
       "  </thead>\n",
       "  <tbody>\n",
       "    <tr>\n",
       "      <th>163</th>\n",
       "      <td>150</td>\n",
       "      <td>Mewtwo</td>\n",
       "      <td>Psychic</td>\n",
       "      <td>NaN</td>\n",
       "      <td>680</td>\n",
       "      <td>106</td>\n",
       "      <td>110</td>\n",
       "      <td>90</td>\n",
       "      <td>154</td>\n",
       "      <td>90</td>\n",
       "      <td>130</td>\n",
       "      <td>1</td>\n",
       "      <td>True</td>\n",
       "      <td>152.0</td>\n",
       "    </tr>\n",
       "    <tr>\n",
       "      <th>154</th>\n",
       "      <td>142</td>\n",
       "      <td>Aerodactyl</td>\n",
       "      <td>Rock</td>\n",
       "      <td>Flying</td>\n",
       "      <td>515</td>\n",
       "      <td>80</td>\n",
       "      <td>105</td>\n",
       "      <td>65</td>\n",
       "      <td>60</td>\n",
       "      <td>75</td>\n",
       "      <td>130</td>\n",
       "      <td>1</td>\n",
       "      <td>False</td>\n",
       "      <td>136.0</td>\n",
       "    </tr>\n",
       "    <tr>\n",
       "      <th>438</th>\n",
       "      <td>392</td>\n",
       "      <td>Infernape</td>\n",
       "      <td>Fire</td>\n",
       "      <td>Fighting</td>\n",
       "      <td>534</td>\n",
       "      <td>76</td>\n",
       "      <td>104</td>\n",
       "      <td>71</td>\n",
       "      <td>104</td>\n",
       "      <td>71</td>\n",
       "      <td>108</td>\n",
       "      <td>4</td>\n",
       "      <td>False</td>\n",
       "      <td>136.0</td>\n",
       "    </tr>\n",
       "    <tr>\n",
       "      <th>428</th>\n",
       "      <td>385</td>\n",
       "      <td>Jirachi</td>\n",
       "      <td>Steel</td>\n",
       "      <td>Psychic</td>\n",
       "      <td>600</td>\n",
       "      <td>100</td>\n",
       "      <td>100</td>\n",
       "      <td>100</td>\n",
       "      <td>100</td>\n",
       "      <td>100</td>\n",
       "      <td>100</td>\n",
       "      <td>3</td>\n",
       "      <td>True</td>\n",
       "      <td>134.0</td>\n",
       "    </tr>\n",
       "    <tr>\n",
       "      <th>314</th>\n",
       "      <td>289</td>\n",
       "      <td>Slaking</td>\n",
       "      <td>Normal</td>\n",
       "      <td>NaN</td>\n",
       "      <td>670</td>\n",
       "      <td>150</td>\n",
       "      <td>160</td>\n",
       "      <td>100</td>\n",
       "      <td>95</td>\n",
       "      <td>65</td>\n",
       "      <td>100</td>\n",
       "      <td>3</td>\n",
       "      <td>False</td>\n",
       "      <td>133.0</td>\n",
       "    </tr>\n",
       "    <tr>\n",
       "      <th>...</th>\n",
       "      <td>...</td>\n",
       "      <td>...</td>\n",
       "      <td>...</td>\n",
       "      <td>...</td>\n",
       "      <td>...</td>\n",
       "      <td>...</td>\n",
       "      <td>...</td>\n",
       "      <td>...</td>\n",
       "      <td>...</td>\n",
       "      <td>...</td>\n",
       "      <td>...</td>\n",
       "      <td>...</td>\n",
       "      <td>...</td>\n",
       "      <td>...</td>\n",
       "    </tr>\n",
       "    <tr>\n",
       "      <th>618</th>\n",
       "      <td>556</td>\n",
       "      <td>Maractus</td>\n",
       "      <td>Grass</td>\n",
       "      <td>NaN</td>\n",
       "      <td>461</td>\n",
       "      <td>75</td>\n",
       "      <td>86</td>\n",
       "      <td>67</td>\n",
       "      <td>106</td>\n",
       "      <td>67</td>\n",
       "      <td>60</td>\n",
       "      <td>5</td>\n",
       "      <td>False</td>\n",
       "      <td>0.0</td>\n",
       "    </tr>\n",
       "    <tr>\n",
       "      <th>183</th>\n",
       "      <td>168</td>\n",
       "      <td>Ariados</td>\n",
       "      <td>Bug</td>\n",
       "      <td>Poison</td>\n",
       "      <td>390</td>\n",
       "      <td>70</td>\n",
       "      <td>90</td>\n",
       "      <td>70</td>\n",
       "      <td>60</td>\n",
       "      <td>60</td>\n",
       "      <td>40</td>\n",
       "      <td>2</td>\n",
       "      <td>False</td>\n",
       "      <td>0.0</td>\n",
       "    </tr>\n",
       "    <tr>\n",
       "      <th>322</th>\n",
       "      <td>297</td>\n",
       "      <td>Hariyama</td>\n",
       "      <td>Fighting</td>\n",
       "      <td>NaN</td>\n",
       "      <td>474</td>\n",
       "      <td>144</td>\n",
       "      <td>120</td>\n",
       "      <td>60</td>\n",
       "      <td>40</td>\n",
       "      <td>60</td>\n",
       "      <td>50</td>\n",
       "      <td>3</td>\n",
       "      <td>False</td>\n",
       "      <td>0.0</td>\n",
       "    </tr>\n",
       "    <tr>\n",
       "      <th>66</th>\n",
       "      <td>60</td>\n",
       "      <td>Poliwag</td>\n",
       "      <td>Water</td>\n",
       "      <td>NaN</td>\n",
       "      <td>300</td>\n",
       "      <td>40</td>\n",
       "      <td>50</td>\n",
       "      <td>40</td>\n",
       "      <td>40</td>\n",
       "      <td>40</td>\n",
       "      <td>90</td>\n",
       "      <td>1</td>\n",
       "      <td>False</td>\n",
       "      <td>0.0</td>\n",
       "    </tr>\n",
       "    <tr>\n",
       "      <th>144</th>\n",
       "      <td>132</td>\n",
       "      <td>Ditto</td>\n",
       "      <td>Normal</td>\n",
       "      <td>NaN</td>\n",
       "      <td>288</td>\n",
       "      <td>48</td>\n",
       "      <td>48</td>\n",
       "      <td>48</td>\n",
       "      <td>48</td>\n",
       "      <td>48</td>\n",
       "      <td>48</td>\n",
       "      <td>1</td>\n",
       "      <td>False</td>\n",
       "      <td>0.0</td>\n",
       "    </tr>\n",
       "  </tbody>\n",
       "</table>\n",
       "<p>800 rows × 14 columns</p>\n",
       "</div>"
      ],
      "text/plain": [
       "     Number        Name    Type 1    Type 2  Total Stats   HP  Attack  \\\n",
       "163     150      Mewtwo   Psychic       NaN          680  106     110   \n",
       "154     142  Aerodactyl      Rock    Flying          515   80     105   \n",
       "438     392   Infernape      Fire  Fighting          534   76     104   \n",
       "428     385     Jirachi     Steel   Psychic          600  100     100   \n",
       "314     289     Slaking    Normal       NaN          670  150     160   \n",
       "..      ...         ...       ...       ...          ...  ...     ...   \n",
       "618     556    Maractus     Grass       NaN          461   75      86   \n",
       "183     168     Ariados       Bug    Poison          390   70      90   \n",
       "322     297    Hariyama  Fighting       NaN          474  144     120   \n",
       "66       60     Poliwag     Water       NaN          300   40      50   \n",
       "144     132       Ditto    Normal       NaN          288   48      48   \n",
       "\n",
       "     Defense  Sp. Atk  Sp. Def  Speed  Generation  Legendary   Wins  \n",
       "163       90      154       90    130           1       True  152.0  \n",
       "154       65       60       75    130           1      False  136.0  \n",
       "438       71      104       71    108           4      False  136.0  \n",
       "428      100      100      100    100           3       True  134.0  \n",
       "314      100       95       65    100           3      False  133.0  \n",
       "..       ...      ...      ...    ...         ...        ...    ...  \n",
       "618       67      106       67     60           5      False    0.0  \n",
       "183       70       60       60     40           2      False    0.0  \n",
       "322       60       40       60     50           3      False    0.0  \n",
       "66        40       40       40     90           1      False    0.0  \n",
       "144       48       48       48     48           1      False    0.0  \n",
       "\n",
       "[800 rows x 14 columns]"
      ]
     },
     "execution_count": 9,
     "metadata": {},
     "output_type": "execute_result"
    }
   ],
   "source": [
    "# Because we may have pokemon that weren't used in combat and we have no data on, we need to use a left join to preserve all 800 unique Pokemon from pkmn table after the join.  Any Pokemon that aren't found in the right df (winners) will get a NaN value.\n",
    "winners = combats_join['Winner'].value_counts()\n",
    "pkmn_join = pd.merge(pkmn, winners, how='left', left_index=True, right_index=True)\n",
    "pkmn_join.rename(mapper={'Winner':'Wins'}, axis=1, inplace=True)\n",
    "# If a pokemon has NaN for Wins, we have no data on combats for the pokemon and can be considered as having 0 wins.\n",
    "pkmn_join['Wins'].fillna(value=0, inplace=True)\n",
    "pkmn_join.sort_values('Wins', ascending=False)"
   ]
  },
  {
   "cell_type": "code",
   "execution_count": 10,
   "id": "f3c06499-f872-46f1-a9e1-e5b9e1d8373a",
   "metadata": {},
   "outputs": [
    {
     "name": "stdout",
     "output_type": "stream",
     "text": [
      "True\n"
     ]
    }
   ],
   "source": [
    "# Check to see if join was done correctly\n",
    "num_combats = len(combats)\n",
    "total_wins = pkmn_join['Wins'].sum()\n",
    "\n",
    "print(num_combats == total_wins)"
   ]
  },
  {
   "cell_type": "markdown",
   "id": "d6f8e896-edd0-4476-b936-125537bc7121",
   "metadata": {},
   "source": [
    "# kNN classification - Predicting legendary status from pokemon stats (HP, Defense, ..., num_wins_in_combat)"
   ]
  },
  {
   "cell_type": "markdown",
   "id": "4b0ea81d-b2a5-430a-beae-db0494676c56",
   "metadata": {},
   "source": [
    "## Extra granularity - building a model without total stats, looking at each stat individually."
   ]
  },
  {
   "cell_type": "code",
   "execution_count": 11,
   "id": "09a63ed0-82a7-4dea-919e-758887c2ec8c",
   "metadata": {},
   "outputs": [],
   "source": [
    "from sklearn.preprocessing import StandardScaler\n",
    "from sklearn.model_selection import train_test_split\n",
    "from sklearn.neighbors import KNeighborsClassifier\n",
    "from sklearn.metrics import confusion_matrix"
   ]
  },
  {
   "cell_type": "code",
   "execution_count": 12,
   "id": "e738d786-d956-4de4-907e-c46ac54f4beb",
   "metadata": {},
   "outputs": [],
   "source": [
    "pkmn_join_copy = pkmn_join.copy(deep=True)\n",
    "# Drop Total Stats column as we have more granularity if we look at each stat individually.  We can consider building a model that looks at total stats later on and compare performance to the model we build now.\n",
    "pkmn_join_copy.drop('Total Stats', axis=1, inplace=True)\n",
    "\n",
    "numeric_cols_labels = ['HP', 'Attack', 'Defense', 'Sp. Atk', 'Sp. Def', 'Speed', 'Wins']\n",
    "\n",
    "numeric_cols = pkmn_join_copy.loc[:, numeric_cols_labels]"
   ]
  },
  {
   "cell_type": "markdown",
   "id": "773bb58d-9173-4404-a351-be705ebf416c",
   "metadata": {},
   "source": [
    "### Scale and transform the data"
   ]
  },
  {
   "cell_type": "code",
   "execution_count": 13,
   "id": "d99ce499-feae-490d-a4ed-71f3fa81204e",
   "metadata": {},
   "outputs": [],
   "source": [
    "# kNN classification compares Euclidean distance between points when creating the model.  Some of our numeric values are on a larger scale than others, which will have an impact on Euclidean distance, and may disproportionately favor certain columns in the model as a result.  To overcome this issue, we transform our numeric data so all columns are on the same scale.\n",
    "scaler = StandardScaler()\n",
    "scaler.fit(numeric_cols)\n",
    "pkmn_join_copy.loc[:, numeric_cols_labels] = scaler.transform(numeric_cols)\n",
    "\n",
    "# kNN classification requires quantitative values as input.  For categorical data, we can convert to dummy variables, which are quantitative, and allow for the use of categorical data in the model. \n",
    "categorical_cols = pkmn_join_copy.loc[:, ['Generation', 'Type 1', 'Type 2']]\n",
    "categorical_cols_labels = list(categorical_cols.columns)\n",
    "scaled_with_dummies = pd.get_dummies(pkmn_join_copy.drop(['Number', 'Name', 'Legendary'], axis=1), columns=categorical_cols_labels)\n",
    "\n",
    "# Lastly, we separate our target labels from the rest of the dataset\n",
    "target_df = pkmn_join_copy['Legendary']"
   ]
  },
  {
   "cell_type": "code",
   "execution_count": 14,
   "id": "ccedb519-8e9e-495d-9e7d-5a07a72d904d",
   "metadata": {},
   "outputs": [
    {
     "data": {
      "text/html": [
       "<div>\n",
       "<style scoped>\n",
       "    .dataframe tbody tr th:only-of-type {\n",
       "        vertical-align: middle;\n",
       "    }\n",
       "\n",
       "    .dataframe tbody tr th {\n",
       "        vertical-align: top;\n",
       "    }\n",
       "\n",
       "    .dataframe thead th {\n",
       "        text-align: right;\n",
       "    }\n",
       "</style>\n",
       "<table border=\"1\" class=\"dataframe\">\n",
       "  <thead>\n",
       "    <tr style=\"text-align: right;\">\n",
       "      <th></th>\n",
       "      <th>HP</th>\n",
       "      <th>Attack</th>\n",
       "      <th>Defense</th>\n",
       "      <th>Sp. Atk</th>\n",
       "      <th>Sp. Def</th>\n",
       "      <th>Speed</th>\n",
       "      <th>Wins</th>\n",
       "      <th>Generation_1</th>\n",
       "      <th>Generation_2</th>\n",
       "      <th>Generation_3</th>\n",
       "      <th>...</th>\n",
       "      <th>Type 2_Ghost</th>\n",
       "      <th>Type 2_Grass</th>\n",
       "      <th>Type 2_Ground</th>\n",
       "      <th>Type 2_Ice</th>\n",
       "      <th>Type 2_Normal</th>\n",
       "      <th>Type 2_Poison</th>\n",
       "      <th>Type 2_Psychic</th>\n",
       "      <th>Type 2_Rock</th>\n",
       "      <th>Type 2_Steel</th>\n",
       "      <th>Type 2_Water</th>\n",
       "    </tr>\n",
       "  </thead>\n",
       "  <tbody>\n",
       "    <tr>\n",
       "      <th>1</th>\n",
       "      <td>-0.950626</td>\n",
       "      <td>-0.924906</td>\n",
       "      <td>-0.797154</td>\n",
       "      <td>-0.239130</td>\n",
       "      <td>-0.248189</td>\n",
       "      <td>-0.801503</td>\n",
       "      <td>-0.753747</td>\n",
       "      <td>1</td>\n",
       "      <td>0</td>\n",
       "      <td>0</td>\n",
       "      <td>...</td>\n",
       "      <td>0</td>\n",
       "      <td>0</td>\n",
       "      <td>0</td>\n",
       "      <td>0</td>\n",
       "      <td>0</td>\n",
       "      <td>1</td>\n",
       "      <td>0</td>\n",
       "      <td>0</td>\n",
       "      <td>0</td>\n",
       "      <td>0</td>\n",
       "    </tr>\n",
       "    <tr>\n",
       "      <th>2</th>\n",
       "      <td>-0.362822</td>\n",
       "      <td>-0.524130</td>\n",
       "      <td>-0.347917</td>\n",
       "      <td>0.219560</td>\n",
       "      <td>0.291156</td>\n",
       "      <td>-0.285015</td>\n",
       "      <td>-0.487719</td>\n",
       "      <td>1</td>\n",
       "      <td>0</td>\n",
       "      <td>0</td>\n",
       "      <td>...</td>\n",
       "      <td>0</td>\n",
       "      <td>0</td>\n",
       "      <td>0</td>\n",
       "      <td>0</td>\n",
       "      <td>0</td>\n",
       "      <td>1</td>\n",
       "      <td>0</td>\n",
       "      <td>0</td>\n",
       "      <td>0</td>\n",
       "      <td>0</td>\n",
       "    </tr>\n",
       "    <tr>\n",
       "      <th>3</th>\n",
       "      <td>0.420917</td>\n",
       "      <td>0.092448</td>\n",
       "      <td>0.293849</td>\n",
       "      <td>0.831146</td>\n",
       "      <td>1.010283</td>\n",
       "      <td>0.403635</td>\n",
       "      <td>0.783306</td>\n",
       "      <td>1</td>\n",
       "      <td>0</td>\n",
       "      <td>0</td>\n",
       "      <td>...</td>\n",
       "      <td>0</td>\n",
       "      <td>0</td>\n",
       "      <td>0</td>\n",
       "      <td>0</td>\n",
       "      <td>0</td>\n",
       "      <td>1</td>\n",
       "      <td>0</td>\n",
       "      <td>0</td>\n",
       "      <td>0</td>\n",
       "      <td>0</td>\n",
       "    </tr>\n",
       "    <tr>\n",
       "      <th>4</th>\n",
       "      <td>0.420917</td>\n",
       "      <td>0.647369</td>\n",
       "      <td>1.577381</td>\n",
       "      <td>1.503891</td>\n",
       "      <td>1.729409</td>\n",
       "      <td>0.403635</td>\n",
       "      <td>0.221690</td>\n",
       "      <td>1</td>\n",
       "      <td>0</td>\n",
       "      <td>0</td>\n",
       "      <td>...</td>\n",
       "      <td>0</td>\n",
       "      <td>0</td>\n",
       "      <td>0</td>\n",
       "      <td>0</td>\n",
       "      <td>0</td>\n",
       "      <td>1</td>\n",
       "      <td>0</td>\n",
       "      <td>0</td>\n",
       "      <td>0</td>\n",
       "      <td>0</td>\n",
       "    </tr>\n",
       "    <tr>\n",
       "      <th>5</th>\n",
       "      <td>-1.185748</td>\n",
       "      <td>-0.832419</td>\n",
       "      <td>-0.989683</td>\n",
       "      <td>-0.392027</td>\n",
       "      <td>-0.787533</td>\n",
       "      <td>-0.112853</td>\n",
       "      <td>-0.221690</td>\n",
       "      <td>1</td>\n",
       "      <td>0</td>\n",
       "      <td>0</td>\n",
       "      <td>...</td>\n",
       "      <td>0</td>\n",
       "      <td>0</td>\n",
       "      <td>0</td>\n",
       "      <td>0</td>\n",
       "      <td>0</td>\n",
       "      <td>0</td>\n",
       "      <td>0</td>\n",
       "      <td>0</td>\n",
       "      <td>0</td>\n",
       "      <td>0</td>\n",
       "    </tr>\n",
       "  </tbody>\n",
       "</table>\n",
       "<p>5 rows × 49 columns</p>\n",
       "</div>"
      ],
      "text/plain": [
       "         HP    Attack   Defense   Sp. Atk   Sp. Def     Speed      Wins  \\\n",
       "1 -0.950626 -0.924906 -0.797154 -0.239130 -0.248189 -0.801503 -0.753747   \n",
       "2 -0.362822 -0.524130 -0.347917  0.219560  0.291156 -0.285015 -0.487719   \n",
       "3  0.420917  0.092448  0.293849  0.831146  1.010283  0.403635  0.783306   \n",
       "4  0.420917  0.647369  1.577381  1.503891  1.729409  0.403635  0.221690   \n",
       "5 -1.185748 -0.832419 -0.989683 -0.392027 -0.787533 -0.112853 -0.221690   \n",
       "\n",
       "   Generation_1  Generation_2  Generation_3  ...  Type 2_Ghost  Type 2_Grass  \\\n",
       "1             1             0             0  ...             0             0   \n",
       "2             1             0             0  ...             0             0   \n",
       "3             1             0             0  ...             0             0   \n",
       "4             1             0             0  ...             0             0   \n",
       "5             1             0             0  ...             0             0   \n",
       "\n",
       "   Type 2_Ground  Type 2_Ice  Type 2_Normal  Type 2_Poison  Type 2_Psychic  \\\n",
       "1              0           0              0              1               0   \n",
       "2              0           0              0              1               0   \n",
       "3              0           0              0              1               0   \n",
       "4              0           0              0              1               0   \n",
       "5              0           0              0              0               0   \n",
       "\n",
       "   Type 2_Rock  Type 2_Steel  Type 2_Water  \n",
       "1            0             0             0  \n",
       "2            0             0             0  \n",
       "3            0             0             0  \n",
       "4            0             0             0  \n",
       "5            0             0             0  \n",
       "\n",
       "[5 rows x 49 columns]"
      ]
     },
     "execution_count": 14,
     "metadata": {},
     "output_type": "execute_result"
    }
   ],
   "source": [
    "scaled_with_dummies.head()"
   ]
  },
  {
   "cell_type": "code",
   "execution_count": 15,
   "id": "bde232d7-a3e1-40ba-9256-758684effadd",
   "metadata": {},
   "outputs": [
    {
     "data": {
      "text/plain": [
       "Index(['HP', 'Attack', 'Defense', 'Sp. Atk', 'Sp. Def', 'Speed', 'Wins',\n",
       "       'Generation_1', 'Generation_2', 'Generation_3', 'Generation_4',\n",
       "       'Generation_5', 'Generation_6', 'Type 1_Bug', 'Type 1_Dark',\n",
       "       'Type 1_Dragon', 'Type 1_Electric', 'Type 1_Fairy', 'Type 1_Fighting',\n",
       "       'Type 1_Fire', 'Type 1_Flying', 'Type 1_Ghost', 'Type 1_Grass',\n",
       "       'Type 1_Ground', 'Type 1_Ice', 'Type 1_Normal', 'Type 1_Poison',\n",
       "       'Type 1_Psychic', 'Type 1_Rock', 'Type 1_Steel', 'Type 1_Water',\n",
       "       'Type 2_Bug', 'Type 2_Dark', 'Type 2_Dragon', 'Type 2_Electric',\n",
       "       'Type 2_Fairy', 'Type 2_Fighting', 'Type 2_Fire', 'Type 2_Flying',\n",
       "       'Type 2_Ghost', 'Type 2_Grass', 'Type 2_Ground', 'Type 2_Ice',\n",
       "       'Type 2_Normal', 'Type 2_Poison', 'Type 2_Psychic', 'Type 2_Rock',\n",
       "       'Type 2_Steel', 'Type 2_Water'],\n",
       "      dtype='object')"
      ]
     },
     "execution_count": 15,
     "metadata": {},
     "output_type": "execute_result"
    }
   ],
   "source": [
    "scaled_with_dummies.columns"
   ]
  },
  {
   "cell_type": "code",
   "execution_count": null,
   "id": "9a20290b-a42e-49df-9d5a-b58e8599d29d",
   "metadata": {},
   "outputs": [],
   "source": []
  },
  {
   "cell_type": "code",
   "execution_count": null,
   "id": "bb2b8ead-9ad6-4885-b17c-a79d22bd4bb4",
   "metadata": {},
   "outputs": [],
   "source": []
  },
  {
   "cell_type": "markdown",
   "id": "4ab35bae-6146-485c-ac35-079cd26c5794",
   "metadata": {},
   "source": [
    "### Train/Test Split"
   ]
  },
  {
   "cell_type": "code",
   "execution_count": 16,
   "id": "c8f6c6ce-6b06-4243-98cc-eb7517dee030",
   "metadata": {},
   "outputs": [],
   "source": [
    "X_train, X_test, y_train, y_test = train_test_split(scaled_with_dummies, target_df, test_size=0.2)"
   ]
  },
  {
   "cell_type": "markdown",
   "id": "c1165128-c070-44e4-ba05-9425dfc93fbc",
   "metadata": {},
   "source": [
    "### Creating the model"
   ]
  },
  {
   "cell_type": "code",
   "execution_count": 17,
   "id": "4351bf72-44c5-4415-92fa-ea2679a68bd0",
   "metadata": {},
   "outputs": [
    {
     "data": {
      "text/plain": [
       "0.925"
      ]
     },
     "execution_count": 17,
     "metadata": {},
     "output_type": "execute_result"
    }
   ],
   "source": [
    "knn = KNeighborsClassifier(n_neighbors=3)\n",
    "knn.fit(X_train, y_train)\n",
    "knn.score(X_test, y_test)"
   ]
  },
  {
   "cell_type": "markdown",
   "id": "02d3e90f-8058-4dcc-8a0f-d1fdb9e1535c",
   "metadata": {},
   "source": [
    "### Evaluating model performance"
   ]
  },
  {
   "cell_type": "code",
   "execution_count": 18,
   "id": "b6ed10b8-a256-4ce0-8701-14680bf8a157",
   "metadata": {},
   "outputs": [
    {
     "data": {
      "text/plain": [
       "[<matplotlib.lines.Line2D at 0x15a4dc250>]"
      ]
     },
     "execution_count": 18,
     "metadata": {},
     "output_type": "execute_result"
    },
    {
     "data": {
      "image/png": "[encoded data removed]",
      "text/plain": [
       "<Figure size 432x288 with 1 Axes>"
      ]
     },
     "metadata": {
      "needs_background": "light"
     },
     "output_type": "display_data"
    }
   ],
   "source": [
    "training_scores = []\n",
    "k_values = np.arange(3, 21, 2)\n",
    "for k in k_values:\n",
    "    knn = KNeighborsClassifier(n_neighbors=k)\n",
    "    knn.fit(X_train, y_train)\n",
    "    new_score = knn.score(X_test, y_test)\n",
    "    training_scores.append(new_score)\n",
    "plt.scatter(k_values, training_scores, color='red', marker='x')\n",
    "plt.plot(k_values, training_scores)"
   ]
  },
  {
   "cell_type": "code",
   "execution_count": 19,
   "id": "60c35eeb-f625-4a18-91a6-75ef9d7002fc",
   "metadata": {},
   "outputs": [
    {
     "data": {
      "text/plain": [
       "[<matplotlib.lines.Line2D at 0x15a5d5040>]"
      ]
     },
     "execution_count": 19,
     "metadata": {},
     "output_type": "execute_result"
    },
    {
     "data": {
      "image/png": "[encoded data removed]",
      "text/plain": [
       "<Figure size 432x288 with 1 Axes>"
      ]
     },
     "metadata": {
      "needs_background": "light"
     },
     "output_type": "display_data"
    }
   ],
   "source": [
    "X_train, X_test, y_train, y_test = train_test_split(scaled_with_dummies, target_df, test_size=0.2)\n",
    "training_scores = []\n",
    "k_values = np.arange(3, 21, 2)\n",
    "for k in k_values:\n",
    "    knn = KNeighborsClassifier(n_neighbors=k, weights='distance')\n",
    "    knn.fit(X_train, y_train)\n",
    "    new_score = knn.score(X_test, y_test)\n",
    "    training_scores.append(new_score)\n",
    "plt.scatter(k_values, training_scores, color='red', marker='x')\n",
    "plt.plot(k_values, training_scores)"
   ]
  },
  {
   "cell_type": "code",
   "execution_count": null,
   "id": "5a7a86fa-5f24-4f4b-af7d-5748bb1e9599",
   "metadata": {},
   "outputs": [],
   "source": []
  },
  {
   "cell_type": "code",
   "execution_count": null,
   "id": "258578ce-f8c0-4778-bd8c-ca08ccf99584",
   "metadata": {},
   "outputs": [],
   "source": []
  },
  {
   "cell_type": "code",
   "execution_count": null,
   "id": "1985ef0a-8380-4650-a1b5-fdbcc208554d",
   "metadata": {},
   "outputs": [],
   "source": []
  },
  {
   "cell_type": "code",
   "execution_count": null,
   "id": "78bcb9ef-6982-4535-8bd5-9c302ee01d0e",
   "metadata": {},
   "outputs": [],
   "source": []
  },
  {
   "cell_type": "code",
   "execution_count": null,
   "id": "6ee39d38-c382-4cd8-be82-dc72d85262e8",
   "metadata": {},
   "outputs": [],
   "source": []
  },
  {
   "cell_type": "markdown",
   "id": "2a1373be-9f57-41a9-bda4-faab815967c2",
   "metadata": {},
   "source": [
    "try knn again but take out wins column to see if accuracy goes down.  If it does, then this would be a good example of feature engineering because I added the wins column on my own."
   ]
  },
  {
   "cell_type": "code",
   "execution_count": null,
   "id": "ad4c0862-0cb7-4252-973f-85987bd4dd74",
   "metadata": {},
   "outputs": [],
   "source": [
    "pkmn_new = pkmn.copy(deep=True)\n",
    "pkmn_new.drop_duplicates(subset='Number', keep='last', inplace=True)\n",
    "pkmn_new.drop(labels='Number', axis=1, inplace=True)\n",
    "pkmn_new"
   ]
  },
  {
   "cell_type": "code",
   "execution_count": null,
   "id": "4c9507da-381e-438f-9f79-e9598cf42ba3",
   "metadata": {},
   "outputs": [],
   "source": [
    "numeric_cols = pkmn_new.select_dtypes(include=[np.int, np.float]).drop('Generation', axis=1)\n",
    "new_scaler = StandardScaler()\n",
    "new_scaler.fit(numeric_cols)\n",
    "new_cols = new_scaler.transform(numeric_cols)\n",
    "pkmn_new[list(numeric_cols.columns)] = new_cols\n",
    "\n",
    "\n",
    "target_df = pkmn_new['Legendary']\n",
    "pkmn_new.drop(['Legendary', 'Name'], axis=1, inplace=True)\n",
    "\n"
   ]
  },
  {
   "cell_type": "code",
   "execution_count": null,
   "id": "fa0735c8-8943-49ee-948e-ccdaa0722f31",
   "metadata": {},
   "outputs": [],
   "source": [
    "object_cols_labels = list(pkmn_new.select_dtypes(include=object).columns)\n",
    "object_cols_labels.append('Generation')\n",
    "scaled_with_dummies_2 = pd.get_dummies(pkmn_new, columns=object_cols_labels)\n",
    "scaled_with_dummies_2.columns"
   ]
  },
  {
   "cell_type": "code",
   "execution_count": null,
   "id": "27c37060-fb71-468d-8bae-7be5f01ceb26",
   "metadata": {},
   "outputs": [],
   "source": [
    "neigh = KNeighborsClassifier(n_neighbors=5)\n",
    "neigh.fit(scaled_with_dummies_2, target_df)\n",
    "neigh.score(scaled_with_dummies_2, target_df)"
   ]
  },
  {
   "cell_type": "code",
   "execution_count": null,
   "id": "e90af32e-5be3-4a5a-9ddb-1d5a09f9a76e",
   "metadata": {},
   "outputs": [],
   "source": [
    "X_train, X_test, y_train, y_test = train_test_split(scaled_with_dummies_2, target_df, test_size=0.2)\n",
    "scores = []\n",
    "for k in k_values:\n",
    "    neigh = KNeighborsClassifier(n_neighbors=k, weights='distance')\n",
    "    neigh.fit(X_train, y_train)\n",
    "    score = neigh.score(X_test, y_test)\n",
    "    scores.append(score)\n",
    "plt.plot(k_values, scores)\n",
    "plt.show()\n",
    "\n",
    "\n",
    "preds = neigh.predict(X_test)\n",
    "confusion_matrix(y_test, preds)"
   ]
  },
  {
   "cell_type": "code",
   "execution_count": null,
   "id": "b37bd7eb-7965-42fc-a055-0f086d4e2d90",
   "metadata": {},
   "outputs": [],
   "source": [
    "preds = neigh.predict(X_test)\n",
    "confusion_matrix(y_test, preds)"
   ]
  },
  {
   "cell_type": "code",
   "execution_count": null,
   "id": "86b16769-a5f9-4f99-b57a-008237f0cb4c",
   "metadata": {},
   "outputs": [],
   "source": [
    "dropped = scaled_with_dummies_2.drop(['Type 1_Electric', 'Generation_2', 'Type 2_Rock', 'Total'], axis=1)\n",
    "dropped"
   ]
  },
  {
   "cell_type": "code",
   "execution_count": null,
   "id": "bda81d1c-f6f9-4978-bb0a-8aeb2f3b5175",
   "metadata": {},
   "outputs": [],
   "source": []
  },
  {
   "cell_type": "code",
   "execution_count": null,
   "id": "0da3ae82-3099-43d8-938d-77a2f7d06e18",
   "metadata": {},
   "outputs": [],
   "source": [
    "X_train, X_test, y_train, y_test = train_test_split(dropped, target_df, test_size=0.35)\n",
    "scores = []\n",
    "for k in k_values:\n",
    "    neigh = KNeighborsClassifier(n_neighbors=k, weights='distance')\n",
    "    neigh.fit(X_train, y_train)\n",
    "    score = neigh.score(X_test, y_test)\n",
    "    scores.append(score)\n",
    "plt.plot(k_values, scores)"
   ]
  },
  {
   "cell_type": "code",
   "execution_count": null,
   "id": "be20f25a-e403-4be0-b3dc-af39e75e5d41",
   "metadata": {},
   "outputs": [],
   "source": [
    "scaled_with_dummies_2"
   ]
  },
  {
   "cell_type": "code",
   "execution_count": null,
   "id": "18dc5838-0f77-4aa2-bc40-ddda5072a131",
   "metadata": {},
   "outputs": [],
   "source": [
    "X_train, X_test, y_train, y_test = train_test_split(scaled_with_dummies_2.drop(['HP', 'Attack', 'Defense', 'Sp. Atk', 'Sp. Def'], axis=1), target_df, test_size=0.3)\n",
    "scores = []\n",
    "for k in k_values:\n",
    "    neigh = KNeighborsClassifier(n_neighbors=k, weights='distance')\n",
    "    neigh.fit(X_train, y_train)\n",
    "    score = neigh.score(X_test, y_test)\n",
    "    scores.append(score)\n",
    "plt.plot(k_values, scores)"
   ]
  },
  {
   "cell_type": "code",
   "execution_count": null,
   "id": "b6c91b1e-425f-4402-ba73-b573b0920b50",
   "metadata": {},
   "outputs": [],
   "source": [
    "target_df_int = target_df.astype(int)\n",
    "target_df_int"
   ]
  },
  {
   "cell_type": "code",
   "execution_count": null,
   "id": "ff3a2687-425a-42f0-9e66-cf5625340fd2",
   "metadata": {},
   "outputs": [],
   "source": [
    "X_train, X_test, y_train, y_test = train_test_split(scaled_with_dummies_2, target_df_int, test_size=0.3)\n",
    "scores = []\n",
    "for k in k_values:\n",
    "    neigh = KNeighborsClassifier(n_neighbors=k, weights='distance')\n",
    "    neigh.fit(X_train, y_train)\n",
    "    score = neigh.score(X_test, y_test)\n",
    "    scores.append(score)\n",
    "plt.plot(k_values, scores)"
   ]
  },
  {
   "cell_type": "code",
   "execution_count": null,
   "id": "d5c5b92b-3445-4811-99e5-14457c162f1d",
   "metadata": {},
   "outputs": [],
   "source": [
    "new_list = numeric_cols_labels[:]\n",
    "new_list.append('Wins')\n",
    "\n",
    "X_train, X_test, y_train, y_test = train_test_split(scaled_with_dummies[new_list], target_df_int, test_size=0.3)\n",
    "scores = []\n",
    "for k in k_values:\n",
    "    neigh = KNeighborsClassifier(n_neighbors=k, weights='distance')\n",
    "    neigh.fit(X_train, y_train)\n",
    "    score = neigh.score(X_test, y_test)\n",
    "    print(score)\n",
    "    scores.append(score)\n",
    "plt.plot(k_values, scores)\n",
    "\n",
    "\n",
    "preds = neigh.predict(X_test)"
   ]
  },
  {
   "cell_type": "code",
   "execution_count": null,
   "id": "f040cf16-ad30-4ae2-96c1-834daedfbffa",
   "metadata": {},
   "outputs": [],
   "source": [
    "y_test"
   ]
  },
  {
   "cell_type": "code",
   "execution_count": null,
   "id": "2d57f209-20b9-4a3e-a21f-132f1f2a4e6d",
   "metadata": {},
   "outputs": [],
   "source": [
    "new_list"
   ]
  },
  {
   "cell_type": "code",
   "execution_count": null,
   "id": "b2fbe077-7657-487b-a824-f86d80d2241e",
   "metadata": {},
   "outputs": [],
   "source": [
    "scaled_with_dummies"
   ]
  },
  {
   "cell_type": "code",
   "execution_count": null,
   "id": "e97468b5-969d-41f6-a2b6-dcaca1d9584c",
   "metadata": {},
   "outputs": [],
   "source": [
    "from sklearn.metrics import accuracy_score, f1_score, precision_score, recall_score, classification_report\n",
    "score = neigh.score(X_test, y_test)\n",
    "accuracy = accuracy_score(y_test, preds)\n",
    "f1 = f1_score(y_test, preds, pos_label=None, average='weighted')\n",
    "precision = precision_score(y_test, preds, pos_label=None, average='weighted')\n",
    "recall = recall_score(y_test, preds, pos_label=None, average='weighted')"
   ]
  },
  {
   "cell_type": "code",
   "execution_count": null,
   "id": "89f5a387-4f49-4491-91bc-ccc946cf0464",
   "metadata": {},
   "outputs": [],
   "source": [
    "score, accuracy, f1, precision, recall"
   ]
  },
  {
   "cell_type": "code",
   "execution_count": null,
   "id": "fa4e3517-6972-467f-a5f5-a7de0ea0660b",
   "metadata": {},
   "outputs": [],
   "source": [
    "print(classification_report(y_test, preds))"
   ]
  },
  {
   "cell_type": "code",
   "execution_count": null,
   "id": "8795e53e-b226-4e32-98f9-e09f6d49cdef",
   "metadata": {},
   "outputs": [],
   "source": [
    "confusion_matrix(y_test, preds)"
   ]
  },
  {
   "cell_type": "code",
   "execution_count": null,
   "id": "bf60da48-b790-4eb8-a1fb-c5cf41ac14c7",
   "metadata": {},
   "outputs": [],
   "source": [
    "from sklearn.metrics import plot_confusion_matrix"
   ]
  },
  {
   "cell_type": "code",
   "execution_count": null,
   "id": "41d9add5-529e-406b-a40a-4cc95b5e4eac",
   "metadata": {},
   "outputs": [],
   "source": [
    "plot_confusion_matrix(neigh, X_test, y_test, display_labels=['Non-Legendary', 'Legendary'], cmap=plt.cm.Blues)"
   ]
  },
  {
   "cell_type": "code",
   "execution_count": null,
   "id": "55b5dc4e-3066-4c3a-bce8-2b09919ea61a",
   "metadata": {},
   "outputs": [],
   "source": [
    "plot_confusion_matrix(neigh, X_test, y_test, display_labels=['Non-Legendary', 'Legendary'], cmap=plt.cm.Blues, normalize='true')"
   ]
  },
  {
   "cell_type": "code",
   "execution_count": null,
   "id": "5d1dae80-ea55-43fa-b22e-320dffde2992",
   "metadata": {},
   "outputs": [],
   "source": []
  },
  {
   "cell_type": "code",
   "execution_count": null,
   "id": "aa023f6f-3638-448f-b1c8-c62c94889b93",
   "metadata": {},
   "outputs": [],
   "source": []
  },
  {
   "cell_type": "code",
   "execution_count": null,
   "id": "4c88f7ed-f2ab-4f07-a8c0-ee1fd92c7591",
   "metadata": {},
   "outputs": [],
   "source": []
  },
  {
   "cell_type": "code",
   "execution_count": null,
   "id": "585917db-4bd0-46e2-9770-b9c4c831a706",
   "metadata": {},
   "outputs": [],
   "source": [
    "scaled_with_dummies"
   ]
  },
  {
   "cell_type": "code",
   "execution_count": null,
   "id": "89c1c32c-f3a4-4461-91fa-05f6cb40f1ac",
   "metadata": {},
   "outputs": [],
   "source": []
  },
  {
   "cell_type": "code",
   "execution_count": null,
   "id": "61a04c3a-61ef-449a-8075-76977b7354e5",
   "metadata": {},
   "outputs": [],
   "source": []
  },
  {
   "cell_type": "code",
   "execution_count": null,
   "id": "55ef40b1-055d-4626-8744-f350ecd551dd",
   "metadata": {},
   "outputs": [],
   "source": [
    "from sklearn.linear_model import LogisticRegression"
   ]
  },
  {
   "cell_type": "code",
   "execution_count": null,
   "id": "699b7ecf-5058-40b1-b07f-b00e23424cff",
   "metadata": {},
   "outputs": [],
   "source": [
    "X_train, X_test, y_train, y_test = train_test_split(scaled_with_dummies, target_df, test_size=0.4)\n",
    "lr = LogisticRegression().fit(X_train, y_train)\n",
    "lr.score(X_test, y_test)"
   ]
  },
  {
   "cell_type": "code",
   "execution_count": null,
   "id": "03dd553f-d9d9-4c12-974b-bafbd29b9e61",
   "metadata": {},
   "outputs": [],
   "source": [
    "plot_confusion_matrix(lr, X_test, y_test, cmap=plt.cm.Blues)"
   ]
  },
  {
   "cell_type": "code",
   "execution_count": null,
   "id": "f3461312-c444-4b95-ad0d-e44c83bee6a6",
   "metadata": {},
   "outputs": [],
   "source": [
    "lr_preds = lr.predict(X_test)\n",
    "print(classification_report(y_test, lr_preds))"
   ]
  },
  {
   "cell_type": "markdown",
   "id": "1f6096c9-bf60-43cc-9ebf-221b1f4c1dbd",
   "metadata": {},
   "source": [
    "# Logistic Regression - Predicting Legendary Status"
   ]
  },
  {
   "cell_type": "code",
   "execution_count": null,
   "id": "5c9c0ad6-f958-4d8f-a7bf-a67562484bd5",
   "metadata": {},
   "outputs": [],
   "source": [
    "pkmn_join.corr()"
   ]
  },
  {
   "cell_type": "code",
   "execution_count": null,
   "id": "85435614-b011-48e3-886a-0632ddd96a6e",
   "metadata": {},
   "outputs": [],
   "source": [
    "plt.figure(figsize=(10,10))\n",
    "sns.heatmap(pkmn_join.corr(), cmap=plt.get_cmap('gist_gray'))"
   ]
  },
  {
   "cell_type": "markdown",
   "id": "a82be6a0-439d-4d0d-9e10-74db495aa982",
   "metadata": {},
   "source": [
    "Based on the correlation df and heatmap above, Legendary is most highly correlated with the following 3 quantitative variables:\n",
    "    1. Total\n",
    "    2. Sp. Atk\n",
    "    3. Sp. Def\n",
    "As total is the sum of all of the other stats, HP, Attack, Defense, Sp. Atk, Sp. Def, and Speed, I'd expect it to be collinear with the other variables.  Let's check:"
   ]
  },
  {
   "cell_type": "code",
   "execution_count": null,
   "id": "08fe34b4-35b1-4916-a483-fceb77fe287b",
   "metadata": {},
   "outputs": [],
   "source": [
    "from statsmodels.stats.outliers_influence import variance_inflation_factor"
   ]
  },
  {
   "cell_type": "code",
   "execution_count": null,
   "id": "06aefc38-1750-453b-8b9e-16e2f92a36fe",
   "metadata": {},
   "outputs": [],
   "source": [
    "pkmn_copy = pkmn_join.copy(deep=True)\n",
    "pkmn_copy['Legendary'] = pkmn_copy['Legendary'].astype('int')"
   ]
  },
  {
   "cell_type": "code",
   "execution_count": null,
   "id": "e07686ca-6e90-486c-a7c5-9e9c6ccf0573",
   "metadata": {},
   "outputs": [],
   "source": [
    "variance_inflation_factor(pkmn_copy.loc[:,['HP', 'Attack', 'Defense', 'Sp. Atk', 'Sp. Def', 'Speed', 'Legendary']].values, 6)"
   ]
  },
  {
   "cell_type": "code",
   "execution_count": null,
   "id": "f26b867b-3a08-4d8a-8a48-6ee9b7c06243",
   "metadata": {},
   "outputs": [],
   "source": [
    "pkmn_copy.loc[:,['HP', 'Attack', 'Defense', 'Sp. Atk', 'Sp. Def', 'Speed', 'Legendary']]"
   ]
  },
  {
   "cell_type": "code",
   "execution_count": null,
   "id": "df2b58ef-8df3-4d2c-b438-118a11b3f543",
   "metadata": {},
   "outputs": [],
   "source": [
    "X"
   ]
  },
  {
   "cell_type": "code",
   "execution_count": null,
   "id": "5de815e4-22c2-432e-8881-d02113d3507f",
   "metadata": {},
   "outputs": [],
   "source": [
    "def calc_vif(X):\n",
    "    \"\"\"\n",
    "    X: A pandas DataFrame object of numerical independent variables to be used in regression,\n",
    "    Calculates the variance inflation factor of each independent variable in X\n",
    "    against all of the other independent variables in X\"\"\"\n",
    "    vif = pd.DataFrame()\n",
    "    vif['Variables'] = X.columns\n",
    "    vif['VIF'] = [variance_inflation_factor(X.values, i) for i in range(X.shape[1])]\n",
    "    \n",
    "    return(vif)"
   ]
  },
  {
   "cell_type": "code",
   "execution_count": null,
   "id": "4aaa9d48-d16e-44de-a7a1-aa0329f2d3b1",
   "metadata": {},
   "outputs": [],
   "source": [
    "new_df = pkmn_copy.loc[:,['HP', 'Attack', 'Defense', 'Sp. Atk', 'Sp. Def', 'Speed', 'Legendary']]\n",
    "X = new_df.iloc[:,:-1]\n",
    "calc_vif(X)"
   ]
  },
  {
   "cell_type": "code",
   "execution_count": null,
   "id": "61ca88e9-cb8b-41d0-b361-821ebe0d3bd9",
   "metadata": {},
   "outputs": [],
   "source": [
    "new_df = pkmn_copy.loc[:,['HP', 'Attack', 'Defense', 'Sp. Atk', 'Speed', 'Legendary']]\n",
    "X = new_df.iloc[:,:-1]\n",
    "calc_vif(X)"
   ]
  },
  {
   "cell_type": "code",
   "execution_count": null,
   "id": "e1919346-c84a-423f-bcc3-d2be3fd58d0b",
   "metadata": {},
   "outputs": [],
   "source": [
    "new_df = pkmn_copy.loc[:,['HP', 'Defense', 'Sp. Atk', 'Speed', 'Legendary']]\n",
    "X = new_df.iloc[:,:-1]\n",
    "calc_vif(X)"
   ]
  },
  {
   "cell_type": "code",
   "execution_count": null,
   "id": "a13598f4-ac89-4244-8214-1391b684eb56",
   "metadata": {},
   "outputs": [],
   "source": [
    "new_df = pkmn_copy.loc[:,['Defense', 'Sp. Atk', 'Speed', 'Legendary']]\n",
    "X = new_df.iloc[:,:-1]\n",
    "calc_vif(X)"
   ]
  },
  {
   "cell_type": "code",
   "execution_count": null,
   "id": "c97b8da2-df9f-4252-88ed-6cd032ecaf79",
   "metadata": {},
   "outputs": [],
   "source": [
    "new_df = pkmn_copy.loc[:,['Defense', 'Speed', 'Legendary']]\n",
    "X = new_df.iloc[:,:-1]\n",
    "calc_vif(X)"
   ]
  },
  {
   "cell_type": "code",
   "execution_count": null,
   "id": "341d0616-6b55-4754-8271-be7885046357",
   "metadata": {},
   "outputs": [],
   "source": []
  },
  {
   "cell_type": "code",
   "execution_count": null,
   "id": "a106d039-c2ae-4e3f-900e-61e561612072",
   "metadata": {},
   "outputs": [],
   "source": []
  },
  {
   "cell_type": "code",
   "execution_count": null,
   "id": "9db1f271-13d4-4392-ae8c-0eaa9b0c989a",
   "metadata": {},
   "outputs": [],
   "source": [
    "#scaled_with_dummies\n",
    "new_df = scaled_with_dummies.loc[:,['HP', 'Attack', 'Defense', 'Sp. Atk', 'Sp. Def', 'Speed']]\n",
    "X = new_df.iloc[:,:]\n",
    "calc_vif(X)"
   ]
  },
  {
   "cell_type": "code",
   "execution_count": null,
   "id": "14154580-4706-42ac-bfa0-bec3503017f7",
   "metadata": {},
   "outputs": [],
   "source": []
  },
  {
   "cell_type": "code",
   "execution_count": null,
   "id": "35cede0d-6aa9-4131-879c-9c4a5e935c66",
   "metadata": {},
   "outputs": [],
   "source": [
    "lr = LogisticRegression(random_state=4)\n",
    "lr.fit(pkmn_join.loc[:,['Defense', 'Speed']], target_df)\n",
    "lr.coef_"
   ]
  },
  {
   "cell_type": "code",
   "execution_count": null,
   "id": "39583202-edb8-41c2-8d2a-0a26ce439fa5",
   "metadata": {},
   "outputs": [],
   "source": [
    "lr = LogisticRegression(random_state=4)\n",
    "lr.fit(scaled_with_dummies.loc[:,['Defense', 'Speed']], target_df)\n",
    "lr.coef_"
   ]
  },
  {
   "cell_type": "code",
   "execution_count": null,
   "id": "ec0ad5d7-de38-423c-94dc-c74911e93151",
   "metadata": {},
   "outputs": [],
   "source": []
  },
  {
   "cell_type": "code",
   "execution_count": null,
   "id": "b62c3e26-96d5-4445-98d4-2927d3208fd4",
   "metadata": {},
   "outputs": [],
   "source": []
  },
  {
   "cell_type": "code",
   "execution_count": null,
   "id": "8eaa13e9-16ca-4491-898d-ee66d0de5330",
   "metadata": {},
   "outputs": [],
   "source": []
  },
  {
   "cell_type": "code",
   "execution_count": null,
   "id": "36795645-32d7-4e08-b06c-dc08b8bf321c",
   "metadata": {},
   "outputs": [],
   "source": []
  },
  {
   "cell_type": "markdown",
   "id": "a8d09042-784d-41b0-917c-4418b0a57ebe",
   "metadata": {},
   "source": [
    "## Regression"
   ]
  },
  {
   "cell_type": "code",
   "execution_count": null,
   "id": "08ba4c5e-7df8-498e-a048-0f2aac629e24",
   "metadata": {},
   "outputs": [],
   "source": [
    "pkmn_join.plot.scatter('Total', 'Wins')"
   ]
  },
  {
   "cell_type": "code",
   "execution_count": null,
   "id": "85955c34-6a8c-4c6e-b3df-9651cc62b734",
   "metadata": {},
   "outputs": [],
   "source": [
    "pkmn_join.Wins"
   ]
  },
  {
   "cell_type": "code",
   "execution_count": null,
   "id": "afde81e1-abd8-43b4-9786-c5662c62889f",
   "metadata": {},
   "outputs": [],
   "source": [
    "pkmn_join['Wins']"
   ]
  }
 ],
 "metadata": {
  "jupytext": {
   "formats": "ipynb,auto:percent"
  },
  "kernelspec": {
   "display_name": "Python 3 (ipykernel)",
   "language": "python",
   "name": "python3"
  },
  "language_info": {
   "codemirror_mode": {
    "name": "ipython",
    "version": 3
   },
   "file_extension": ".py",
   "mimetype": "text/x-python",
   "name": "python",
   "nbconvert_exporter": "python",
   "pygments_lexer": "ipython3",
   "version": "3.9.10"
  }
 },
 "nbformat": 4,
 "nbformat_minor": 5
}
